{
 "cells": [
  {
   "cell_type": "markdown",
   "id": "b31e1f74",
   "metadata": {},
   "source": [
    "# VSA "
   ]
  },
  {
   "cell_type": "code",
   "execution_count": 1,
   "id": "behavioral-peninsula",
   "metadata": {},
   "outputs": [
    {
     "ename": "ModuleNotFoundError",
     "evalue": "No module named 'tensorflow'",
     "output_type": "error",
     "traceback": [
      "\u001b[0;31m---------------------------------------------------------------------------\u001b[0m",
      "\u001b[0;31mModuleNotFoundError\u001b[0m                       Traceback (most recent call last)",
      "Cell \u001b[0;32mIn[1], line 2\u001b[0m\n\u001b[1;32m      1\u001b[0m \u001b[38;5;28;01mimport\u001b[39;00m \u001b[38;5;21;01mtorchhd\u001b[39;00m \u001b[38;5;28;01mas\u001b[39;00m \u001b[38;5;21;01mthd\u001b[39;00m\n\u001b[0;32m----> 2\u001b[0m \u001b[38;5;28;01mimport\u001b[39;00m \u001b[38;5;21;01mtensorflow\u001b[39;00m \u001b[38;5;28;01mas\u001b[39;00m \u001b[38;5;21;01mtf\u001b[39;00m\n",
      "\u001b[0;31mModuleNotFoundError\u001b[0m: No module named 'tensorflow'"
     ]
    }
   ],
   "source": [
    "import torchhd as thd\n",
    "import tensorflow as tf"
   ]
  },
  {
   "cell_type": "code",
   "execution_count": null,
   "id": "fatal-carter",
   "metadata": {},
   "outputs": [],
   "source": [
    "dim = 2000 # Vector dimension. Why was it chosen this high? Cite papers where confusion is not possible after a certain value.\n",
    "n = 100000 # The no. of chunks found in the initial training set. \n",
    "\n",
    "cleanup = thd.memory.SparseDistributed(n, dim, dim) # cleanup/chunk memory. Use for querying and retrieval.\n",
    "\n",
    "# We also need a memory that keeps track of wether we have encountered a chunk (can also be understood as token) so far or not.\n",
    "encountered = {}"
   ]
  },
  {
   "cell_type": "code",
   "execution_count": null,
   "id": "formal-christian",
   "metadata": {},
   "outputs": [],
   "source": [
    "tokens = [\"I\", \"go\", \"I\", \"go\"]\n",
    "\n",
    "# Generate 1-dim chunks.\n",
    "for token in tokens:\n",
    "    # If the chunk is hasn't been encoountered before\n",
    "    if encountered.get(token) == None:\n",
    "        # Generate HV for value.\n",
    "        val = thd.MAPTensor.random(1, dim)[0]\n",
    "        # Generate HV for key.\n",
    "        key = thd.MAPTensor.random(1, dim)[0]\n",
    "        # Save val, key, and token in encountered memory\n",
    "        encountered[token] = {'val': val, 'key': key, 'cnt': 1}\n",
    "        # Add chunk representation (i.e., \"key * val\") to cleanup.\n",
    "        cleanup.write(keys=key, values=val)\n",
    "    # The chunk has been encountered before. Increase count value.\n",
    "    else:\n",
    "        encountered[token]['cnt'] += 1\n",
    "\n",
    "# Generate 2-dim chunks.\n",
    "# At this point we know for sure that we've encountered all the one-dimensional tokens.\n",
    "for first, second in zip(tokens[:-1], tokens[1:]):\n",
    "    # Generate HV for value.\n",
    "    val = encountered[first]['key'] * encountered[first]['val'] + encountered[second]['key'] * encountered[second]['val']\n",
    "    # Generate HV for key.\n",
    "    key = thd.MAPTensor.random(1, dim)[0]\n",
    "    if encountered.get(val) == None:\n",
    "        encountered[val] = {'val': val, 'key': key, 'cnt': 1}\n",
    "        # Add chunk representation (i.e., \"key * val\") to cleanup.\n",
    "        cleanup.write(keys=key, values=val)\n",
    "    else:\n",
    "        encountered[token]['cnt'] += 1   "
   ]
  },
  {
   "cell_type": "code",
   "execution_count": null,
   "id": "7cff9f63",
   "metadata": {},
   "outputs": [],
   "source": [
    "encountered"
   ]
  },
  {
   "cell_type": "code",
   "execution_count": null,
   "id": "a44b9cdc",
   "metadata": {},
   "outputs": [],
   "source": [
    "cleanup.read(encountered['I'].get('key')).sign()"
   ]
  },
  {
   "cell_type": "code",
   "execution_count": null,
   "id": "marine-israel",
   "metadata": {},
   "outputs": [],
   "source": [
    "# Values\n",
    "vals = thd.MAPTensor.random(5, d)\n",
    "a, b, c, e, f = vals\n",
    "\n",
    "# Keys\n",
    "keys = thd.MAPTensor.random(5, d)\n",
    "arg1, arg2, arg3, arg4, arg5 = keys\n",
    "\n",
    "# 2nd hyerachie\n",
    "frames = thd.random(2, d)\n",
    "\n",
    "record_a = frames[0] * (arg1 * a + arg2 * b + arg3 * c + arg4 * e + arg5 * f)"
   ]
  },
  {
   "cell_type": "code",
   "execution_count": null,
   "id": "backed-softball",
   "metadata": {},
   "outputs": [],
   "source": [
    "# Retrieve value correpsonding to key arg1\n",
    "arg1_dec = record_a * frames[0] * arg1"
   ]
  },
  {
   "cell_type": "code",
   "execution_count": null,
   "id": "877dcc41",
   "metadata": {},
   "outputs": [],
   "source": [
    "sims = thd.cosine_similarity(arg1_dec, vals)"
   ]
  },
  {
   "cell_type": "code",
   "execution_count": null,
   "id": "f02cb35e",
   "metadata": {},
   "outputs": [],
   "source": [
    "sims"
   ]
  },
  {
   "cell_type": "code",
   "execution_count": null,
   "id": "873681dd",
   "metadata": {},
   "outputs": [],
   "source": [
    "sdm = thd.memory.SparseDistributed(5, d, d)"
   ]
  },
  {
   "cell_type": "code",
   "execution_count": null,
   "id": "1db84b0f",
   "metadata": {},
   "outputs": [],
   "source": [
    "sdm.write(keys=keys, values=vals)"
   ]
  },
  {
   "cell_type": "code",
   "execution_count": null,
   "id": "bd60dad4",
   "metadata": {},
   "outputs": [],
   "source": [
    "read = sdm.read(keys)"
   ]
  },
  {
   "cell_type": "code",
   "execution_count": null,
   "id": "4f56e6c1",
   "metadata": {},
   "outputs": [],
   "source": [
    "thd.cosine_similarity(read, vals)"
   ]
  },
  {
   "cell_type": "code",
   "execution_count": null,
   "id": "e45344db",
   "metadata": {},
   "outputs": [],
   "source": [
    "sdm.read(arg1)"
   ]
  },
  {
   "cell_type": "code",
   "execution_count": null,
   "id": "6f277b12",
   "metadata": {},
   "outputs": [],
   "source": [
    "sdm.write(arg1, a)"
   ]
  },
  {
   "cell_type": "code",
   "execution_count": null,
   "id": "85303bc4",
   "metadata": {},
   "outputs": [],
   "source": []
  },
  {
   "cell_type": "code",
   "execution_count": null,
   "id": "4ccd0ebb",
   "metadata": {},
   "outputs": [],
   "source": [
    "arg1"
   ]
  },
  {
   "cell_type": "code",
   "execution_count": null,
   "id": "62f19bd7",
   "metadata": {},
   "outputs": [],
   "source": [
    "arg"
   ]
  }
 ],
 "metadata": {
  "kernelspec": {
   "display_name": "Python 3 (ipykernel)",
   "language": "python",
   "name": "python3"
  },
  "language_info": {
   "codemirror_mode": {
    "name": "ipython",
    "version": 3
   },
   "file_extension": ".py",
   "mimetype": "text/x-python",
   "name": "python",
   "nbconvert_exporter": "python",
   "pygments_lexer": "ipython3",
   "version": "3.11.2"
  }
 },
 "nbformat": 4,
 "nbformat_minor": 5
}
