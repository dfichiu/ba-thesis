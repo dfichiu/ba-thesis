{
  "nbformat": 4,
  "nbformat_minor": 0,
  "metadata": {
    "colab": {
      "provenance": []
    },
    "kernelspec": {
      "name": "python3",
      "display_name": "Python 3"
    },
    "language_info": {
      "name": "python"
    },
    "accelerator": "GPU",
    "gpuClass": "standard"
  },
  "cells": [
    {
      "cell_type": "markdown",
      "source": [
        "# Dynamic Sparse Distributed Memory\n",
        "\n"
      ],
      "metadata": {
        "id": "NDwnkbc5n-8C"
      }
    },
    {
      "cell_type": "markdown",
      "source": [
        "This notebook implements the DSDM model presented in [Online Task-free Continual Learning with Dynamic Sparse Distributed Memory](https://www.ecva.net/papers/eccv_2022/papers_ECCV/papers/136850721.pdf)."
      ],
      "metadata": {
        "id": "bUoR69d-oFP6"
      }
    },
    {
      "cell_type": "code",
      "source": [
        "import math\n",
        "import matplotlib\n",
        "import matplotlib.pyplot as plt\n",
        "import numpy\n",
        "import numpy as np\n",
        "import random\n",
        "from tqdm import tqdm\n",
        "\n",
        "from sklearn.neighbors import LocalOutlierFactor\n",
        "\n",
        "import torch\n",
        "from torch.autograd import Variable\n",
        "from torch.utils.data import Dataset, DataLoader\n",
        "import torch.nn as nn\n",
        "import torch.nn.functional as F \n",
        "import torchvision\n",
        "from torchvision import datasets, transforms"
      ],
      "metadata": {
        "id": "dGeeI-H3NGMx"
      },
      "execution_count": 3,
      "outputs": []
    },
    {
      "cell_type": "code",
      "source": [
        "device = torch.device(\"cuda\" if torch.cuda.is_available() else \"cpu\")\n",
        "#model_name = \"vits8\"\n",
        "#img_size = 224"
      ],
      "metadata": {
        "id": "6iuLthXgNKLP"
      },
      "execution_count": 4,
      "outputs": []
    },
    {
      "cell_type": "code",
      "source": [
        "def fix_seed():\n",
        "    seed = 42\n",
        "    print(\"[ Using Seed : \", seed, \" ]\")\n",
        "\n",
        "    torch.manual_seed(seed)\n",
        "    torch.cuda.manual_seed_all(seed)\n",
        "    torch.cuda.manual_seed(seed)\n",
        "    numpy.random.seed(seed)\n",
        "    random.seed(seed)\n",
        "    torch.backends.cudnn.deterministic = True\n",
        "    torch.backends.cudnn.benchmark = False\n",
        "    \n",
        "def load_preencoded_data(model_name, dataset_name,img_size,bs=64,shuffle=False,file_path=None):\n",
        "    if file_path!= None:\n",
        "      loaded = torch.load(file_path)\n",
        "    else:\n",
        "      loaded = torch.load('./data/'+dataset_name+'_'+model_name+'_'+str(img_size)+'.pt')\n",
        "\n",
        "    trainset = torch.utils.data.TensorDataset(loaded['traindata'], loaded['trainlabel'])\n",
        "    testset = torch.utils.data.TensorDataset(loaded['testdata'], loaded['label_test'])\n",
        "    trainloader = torch.utils.data.DataLoader(trainset,\n",
        "                                              batch_size=bs,\n",
        "                                              shuffle=shuffle,\n",
        "                                              num_workers=0)\n",
        "    testloader = torch.utils.data.DataLoader(testset,\n",
        "                                             batch_size=bs,\n",
        "                                             shuffle=shuffle,\n",
        "                                             num_workers=0)\n",
        "    return trainset, testset, trainloader, testloader\n",
        "\n",
        "\n",
        "class SubDataset(Dataset):\n",
        "    '''To sub-sample a dataset, taking only those samples with label in [sub_labels].\n",
        "    After this selection of samples has been made, it is possible to transform the target-labels,\n",
        "    which can be useful when doing continual learning with fixed number of output units.'''\n",
        "\n",
        "    def __init__(self, original_dataset, sub_labels, target_transform=None, transform=None):\n",
        "        super().__init__()\n",
        "        self.dataset = original_dataset\n",
        "        self.sub_indeces = []\n",
        "        for index in range(len(self.dataset)):\n",
        "            if hasattr(original_dataset, \"targets\"):\n",
        "                if self.dataset.target_transform is None:\n",
        "                    label = self.dataset.targets[index]\n",
        "                else:\n",
        "                    label = self.dataset.target_transform(self.dataset.targets[index])\n",
        "            else:\n",
        "                label = self.dataset[index][1]\n",
        "            if label in sub_labels:\n",
        "                self.sub_indeces.append(index)\n",
        "        self.target_transform = target_transform\n",
        "        self.transform=transform\n",
        "\n",
        "    def __len__(self):\n",
        "        return len(self.sub_indeces)\n",
        "\n",
        "    def __getitem__(self, index):\n",
        "        sample = self.dataset[self.sub_indeces[index]]\n",
        "        if self.transform:\n",
        "            sample=self.transform(sample)\n",
        "        if self.target_transform:\n",
        "            target = self.target_transform(sample[1])\n",
        "            sample = (sample[0], target)\n",
        "        return sample\n",
        "    \n",
        "\n",
        "def compute_distances_gpu(X,Y):\n",
        "    return torch.sqrt(-2 * torch.mm(X,Y.T) +\n",
        "                    torch.sum(torch.pow(Y, 2),dim=1) +\n",
        "                    torch.sum(torch.pow(X, 2),dim=1).view(-1,1))"
      ],
      "metadata": {
        "id": "txy0zDE7Zk4K"
      },
      "execution_count": 5,
      "outputs": []
    },
    {
      "cell_type": "code",
      "source": [
        "# Class that implements a self-organizing neural network which models a DSDM.\n",
        "class SONN(nn.Module):\n",
        "    def __init__(self, Time_period, n_mini_batch, n_class=10, n_feat=384):\n",
        "        super(SONN, self).__init__()\n",
        "        self.n_feat = n_feat\n",
        "        self.n_class=n_class\n",
        "        self.Time_period = Time_period \n",
        "        self.ema = 2/(Time_period + 1)\n",
        "        self.n_mini_batch = n_mini_batch\n",
        "        self.count = 0\n",
        "        self.T = 1\n",
        "        self.Address = torch.zeros(1, n_feat).to(device)\n",
        "        self.M = torch.zeros(1, self.n_class)\n",
        "        self.p_norm = \"fro\"\n",
        "        self.Error = torch.zeros(len(self.Address)).to(device)\n",
        "        self.global_error = 0\n",
        "        self.Time_period_Temperature = self.ema\n",
        "        self.ema_Temperature = (2 / (self.Time_period_Temperature + 1))\n",
        "        self.memory_global_error = torch.zeros(1)\n",
        "        self.memory_min_distance = torch.zeros(1)\n",
        "        self.memory_count_address = torch.zeros(1)\n",
        "        self.dataset_name = \"MNIST\"\n",
        "        \n",
        "        self.acc_after_each_task = []\n",
        "        self.acc_aft_all_task = []\n",
        "        self.stock_feat = torch.tensor([]).to(device)\n",
        "        self.forgetting = []\n",
        "        self.N_prune = 5000 # Pruning threshold\n",
        "        self.prune_mode = \"balance\"\n",
        "        self.n_neighbors = 20\n",
        "        self.contamination = \"auto\"\n",
        "        self.pruning = False \n",
        "        self.cum_acc_activ = False\n",
        "        self.batch_test = True\n",
        "        \n",
        "        self.reset()\n",
        "        \n",
        "    def apply_param(self, T, pruning, N_prune, n_neighbors, Time_period_Temperature):\n",
        "        self.T = T\n",
        "        self.pruning = True\n",
        "        self.N_prune = N_prune\n",
        "        self.n_neighbors = n_neighbors\n",
        "        self.Time_period_Temperature = Time_period_Temperature\n",
        "        \n",
        "    def reset(self):\n",
        "        self.ema = 2 / (self.Time_period + 1)\n",
        "        self.ema_Temperature = (2 / (self.Time_period_Temperature + 1))\n",
        "        self.count = 0\n",
        "        self.Address = torch.zeros(1, self.n_feat).to(device)\n",
        "        self.M = torch.zeros(1, self.n_class).to(device)\n",
        "        self.Error = torch.zeros(len(self.Address)).to(device)\n",
        "        self.global_error = 0\n",
        "        self.memory_global_error = torch.zeros(1)\n",
        "        self.memory_min_distance = torch.zeros(1)\n",
        "        self.memory_count_address = torch.zeros(1)\n",
        "        \n",
        "    def forward(self, inputs):\n",
        "      # No gradient will be computed.\n",
        "        with torch.no_grad():\n",
        "            out = inputs\n",
        "            pred = torch.tensor([]).to(device)\n",
        "            # Get prediction.\n",
        "            if self.batch_test:\n",
        "                # Compute distance from inputs to adress space.\n",
        "                distance = compute_distances_gpu(inputs, self.Address)\n",
        "                # Calculate neuron weight based on distance.\n",
        "                soft_norm = F.softmin(distance/self.T, dim=-1)\n",
        "                # Pool weighted (come from the dtistance) content to get prediction.\n",
        "                pred = torch.matmul(soft_norm, self.M)\n",
        "            else:\n",
        "                for idx_x in range(len(out)):\n",
        "                    x = out[idx_x]\n",
        "                    distance = x - self.Address\n",
        "                    norm = torch.norm(distance, p=self.p_norm, dim=-1)\n",
        "                    # softmin vs argmin\n",
        "                    soft_norm = F.softmin(norm/self.T, dim=-1)\n",
        "                    soft_pred = torch.matmul(soft_norm, self.M.to(device)).view(-1)\n",
        "                    pred = torch.cat((pred, soft_pred.view(1,-1)), 0)\n",
        "        return pred   \n",
        "    \n",
        "    def prune(self):\n",
        "        N_pruning = self.N_prune\n",
        "        n_class = self.M.size(1)\n",
        "        if len(self.Address) > N_pruning:\n",
        "            clf = LocalOutlierFactor(n_neighbors=min(len(self.Address), self.n_neighbors), contamination=self.contamination)\n",
        "            A = self.Address\n",
        "            M = self.M\n",
        "            y_pred = clf.fit_predict(A.cpu())\n",
        "            X_scores = clf.negative_outlier_factor_\n",
        "            x_scor = torch.tensor(X_scores)\n",
        "            # \"Naive\" pruning mode.\n",
        "            if self.prune_mode == \"naive\":\n",
        "                if len(A) > N_pruning:\n",
        "                    prun_N_addr = len(A) - N_pruning # No. of addresses that must be pruned out.\n",
        "                    val, ind = torch.topk(x_scor, prun_N_addr) \n",
        "                    idx_remove = [True] * len(A)\n",
        "                    for i in ind:\n",
        "                        idx_remove[i] = False\n",
        "                    self.M = self.M[idx_remove] # Delete content from address.\n",
        "                    self.Address = self.Address[idx_remove] # Delete address.\n",
        "            # \"Balance\" pruning mode.\n",
        "            if self.prune_mode == \"balance\":\n",
        "                prun_N_addr = len(A) - N_pruning # No. of addresses that must be pruned out.\n",
        "                mean_addr = N_pruning // n_class\n",
        "                val, ind = torch.sort(x_scor, descending=True)\n",
        "\n",
        "                count = prun_N_addr\n",
        "                idx_remove = [True] * len(A)\n",
        "                idx = 0\n",
        "                arg_m = torch.argmax(M, axis=1)\n",
        "                N_remaining = torch.bincount(arg_m)\n",
        "                while count != 0:\n",
        "                    idx +=1\n",
        "                    indice = ind[idx]\n",
        "                    if N_remaining[arg_m[indice]] > (N_pruning // n_class):\n",
        "                        N_remaining[arg_m[indice]] -= 1\n",
        "                        idx_remove[ind[idx]] = False\n",
        "                        count-=1\n",
        "                self.M = self.M[idx_remove]\n",
        "                self.Address = self.Address[idx_remove]\n",
        "        \n",
        "    def test(self, testloader):\n",
        "      \"\"\" Test batch-wise. \"\"\"\n",
        "      total = 0\n",
        "      correct = 0\n",
        "\n",
        "      for batch_idx, (inputs, targets) in enumerate(testloader):\n",
        "          targets = targets.type(torch.LongTensor).to(device)\n",
        "          inputs = inputs.to(device)\n",
        "          # Pass inputs through NN to get prediction.\n",
        "          outputs = self.forward(inputs)\n",
        "          _, predicted = torch.max(outputs, 1)\n",
        "          total += targets.size(0)\n",
        "          correct += (predicted == targets).sum().item()\n",
        "\n",
        "      accuracy = correct / total * 100\n",
        "      print(\"test accuracy {:.3f} %,  {:.3f} / {:.3f} \".format(accuracy, correct, total))\n",
        "      return accuracy\n",
        "    \n",
        "    def test_idx(self, test_dataset_10_way_split, idx_test):\n",
        "        with torch.no_grad():\n",
        "            total = 0\n",
        "            correct = 0\n",
        "\n",
        "            for idx in idx_test:\n",
        "                curr_correct = 0\n",
        "                curr_total = 0\n",
        "                for batch_idx, (inputs, targets) in enumerate(test_dataset_10_way_split[idx]):\n",
        "                    inputs = inputs.to(device)\n",
        "                    targets = targets.type(torch.LongTensor).to(device)\n",
        "                    # Pass inputs through NN to get prediction.\n",
        "                    outputs = self.forward(inputs)\n",
        "                    _, predicted = torch.max(outputs,1)\n",
        "                    total += targets.size(0)\n",
        "                    corr = (predicted == targets).sum().item()\n",
        "                    curr_correct +=corr\n",
        "                    correct += corr\n",
        "                    curr_total += targets.size(0)\n",
        "            accuracy = correct / total * 100\n",
        "        return accuracy, curr_correct / curr_total * 100\n",
        "    \n",
        "    def train__test_n_way_split(self, train_dataset_10_way_split, test_dataset_10_way_split, coef_global_error=1, ema_global_error=None, plot=True, save_feat=False): # n equal len train_dataset_10_way_split\n",
        "        flag = False\n",
        "        acc_test = torch.zeros(len(train_dataset_10_way_split)) # Tensor to hold the accuracies for each train split.\n",
        "        acc_test_after_each_task_softmin = torch.zeros(len(train_dataset_10_way_split))\n",
        "        self.memory_min_distance = torch.zeros(1)\n",
        "        idx_seen = []\n",
        "        self.cum_acc = []\n",
        "\n",
        "        with torch.no_grad():\n",
        "            for idx_loader in range(len(train_dataset_10_way_split)):\n",
        "              # Mark task as already encountered.\n",
        "                idx_seen.append(idx_loader)\n",
        "\n",
        "                # Task train loop: Iterate over the batches of each task.\n",
        "                for batch_idx, (inputs, targets) in enumerate(train_dataset_10_way_split[idx_loader]):\n",
        "                    inputs = inputs.to(device)\n",
        "                    targets = targets.type(torch.LongTensor).to(device)\n",
        "                    if batch_idx == self.n_mini_batch:\n",
        "                        break\n",
        "                    if save_feat:\n",
        "                        self.stock_feat = torch.cat((self.stock_feat, inputs))\n",
        "                    # Sample loop: Iterate over all samples in the current batch.\n",
        "                    for idx_x in range(len(inputs)):\n",
        "                        out = inputs\n",
        "                        x = out[idx_x]\n",
        "                        self.count += 1\n",
        "                        # List of bit-wise difference vectors: 0 - elements are the same & {1, -1} - elements are different. \n",
        "                        distance = x - self.Address\n",
        "                        # List of Hamming distances\n",
        "                        norm = torch.norm(distance, p=self.p_norm, dim=-1)\n",
        "                        # Will be later fed as input to an sofmin layer.\n",
        "                        soft_norm = norm\n",
        "                        # Get minimum Hamming distance and the corresponding neuron index.  \n",
        "                        min_value, idx_min = torch.min(norm, 0)\n",
        "                        # Adjust parameter.\n",
        "                        self.global_error += self.ema_Temperature * (min_value - self.global_error)\n",
        "\n",
        "                        # Check if the distance is bigger than the adaptive threshold.\n",
        "                        if abs(norm[idx_min]) >= self.global_error * coef_global_error:\n",
        "                            # Create a new node with the adress currently being processed.\n",
        "                            self.Address = torch.cat((self.Address, x.view(1, -1)))\n",
        "                            # Create classification content encoding.\n",
        "                            targets_one_hot = F.one_hot(targets[idx_x], num_classes=self.n_class).float()\n",
        "                            # Create a nre entry into the memory.\n",
        "                            self.M = torch.cat((self.M, targets_one_hot.view(1,-1)))\n",
        "                        else:\n",
        "                            delta_address = distance\n",
        "                            # List of Hamming distances mapped to probabilities.\n",
        "                            soft_norm = F.softmin(norm/self.T, dim=-1)\n",
        "                            # Modify all existing addresses. The modification is made according to the weight. \n",
        "                            self.Address = self.Address + self.ema * torch.mul(soft_norm.view(-1, 1), delta_address)\n",
        "                            # Get content encoding.\n",
        "                            targets_one_hot = F.one_hot(targets[idx_x], num_classes=self.n_class).float()\n",
        "                            # Modify content accordingly.\n",
        "                            self.M += self.ema * torch.mul(soft_norm.view(-1, 1), (targets_one_hot - self.M))\n",
        "                # Prune memory.\n",
        "                if self.pruning:\n",
        "                    self.prune()\n",
        "                # \n",
        "                if self.cum_acc_activ:\n",
        "                    acc, last_acc = self.test_idx(test_dataset_10_way_split, idx_seen)\n",
        "                    self.cum_acc.append(acc)\n",
        "                    acc_test_after_each_task_softmin[idx_loader] = last_acc\n",
        "            # Update after task accuracy.\n",
        "            self.acc_after_each_task = acc_test_after_each_task_softmin\n",
        "            acc_test_after_each_task_softmin = acc_test_after_each_task_softmin\n",
        "            \n",
        "            acc_test_after_all_task_softmin = torch.zeros(len(train_dataset_10_way_split))\n",
        "            acc_test = torch.zeros(len(train_dataset_10_way_split))\n",
        "\n",
        "            # Test after all tasks are learned.\n",
        "            for idx_loader in range(len(test_dataset_10_way_split)):\n",
        "                count_input = 0\n",
        "                correct = 0\n",
        "                correct_softmin = 0\n",
        "\n",
        "                if self.batch_test:\n",
        "                    acc, last_acc = self.test_idx(test_dataset_10_way_split, [idx_loader])\n",
        "                    acc_test[idx_loader] = 0 \n",
        "                    acc_test_after_all_task_softmin[idx_loader] = last_acc\n",
        "                else:\n",
        "                    for batch_idx, (inputs, targets) in enumerate(test_dataset_10_way_split[idx_loader]):\n",
        "                        out = inputs.to(device)\n",
        "                        targets = targets.type(torch.LongTensor)\n",
        "                        for i in range(len(out)):\n",
        "                            count_input += 1\n",
        "                            x = out[i]\n",
        "                            distance = x-self.Address\n",
        "                            norm = torch.norm(distance, p=self.p_norm, dim=-1)\n",
        "                            # softmin\n",
        "                            soft_norm = F.softmin(norm/self.T, dim=-1)\n",
        "                            soft_pred = torch.matmul(soft_norm, self.M.to(device)).view(-1)\n",
        "                            arg_soft_pred = torch.argmax(soft_pred)\n",
        "                            # argmin\n",
        "                            idx = torch.argmin(norm)\n",
        "                            pred = torch.argmax(self.M[idx])\n",
        "                            if pred == targets[i]:\n",
        "                                correct += 1\n",
        "                            if arg_soft_pred == targets[i]:\n",
        "                                correct_softmin += 1\n",
        "                    acc_test[idx_loader] = correct / count_input*100\n",
        "                    acc_test_after_all_task_softmin[idx_loader] = correct_softmin / count_input * 100\n",
        "\n",
        "                self.acc_aft_all_task = acc_test_after_all_task_softmin\n",
        "            if plot:\n",
        "                plt.figure(figsize=(15,10))\n",
        "                plt.plot(acc_test)\n",
        "                plt.plot(acc_test_just_after_learn_1_task)\n",
        "                plt.plot(acc_test_after_all_task_softmin)\n",
        "                plt.legend([\"after learn all task\",\"after learn each task\",\"after learn all task with softmin\"])\n",
        "                plt.title(\"accuracy on all task = {:.2f} %\".format(acc_test.mean().item())+\"same accuracy with softmin (with T= {:.2f}) =\".format(self.T)+\"{:.3f}\".format(acc_test_after_all_task_softmin.mean().item())+\" on 10 way split cifar 10,\\n Time_period = \"+ str(Time_period)+ \" number of data per class = \"+str(self.n_mini_batch*bs)+\" address use \"+str(self.M.size(0)))  \n",
        "                plt.ylabel(\"test accuracy %\")\n",
        "                plt.xlabel(\"task 0 to task 9\")\n",
        "                for i in range(0,self.n_class):\n",
        "                    plt.vlines(i,min(acc_test),100,colors='k', linestyles='dotted', label='end task 0')\n",
        "                plt.show()\n",
        "                plt.figure(figsize=(15,10))\n",
        "                n_taskss=(np.linspace(0,len(test_dataset_10_way_split),len(self.memory_global_error)))\n",
        "                plt.plot(n_taskss,self.memory_global_error)\n",
        "                n_taskss=(np.linspace(0,len(test_dataset_10_way_split),len(self.memory_min_distance)))\n",
        "                plt.plot(n_taskss,self.memory_min_distance, alpha=0.3)\n",
        "                n_taskss=(np.linspace(0,len(test_dataset_10_way_split),len(self.memory_count_address)))\n",
        "                plt.plot(n_taskss,self.memory_count_address/max(self.memory_count_address)*100)\n",
        "                for i in range(1,len(test_dataset_10_way_split)+1):\n",
        "                    plt.vlines(i,0,70,colors='k', linestyles='dotted', label='end task 0')\n",
        "                plt.show()\n",
        "            return acc_test_after_each_task_softmin, acc_test_after_all_task_softmin\n",
        "        \n",
        "    def grid_search_spread_factor(self, Time_period, n_mini_batch, train_dataset_10_way_split, test_dataset_10_way_split, N_try=5, ema_global_error=\"same\", coef_global_error=1, plot=True, random_ordering=True):\n",
        "        \"\"\" \"\"\"\n",
        "        flag = False\n",
        "        acc_test = torch.zeros(N_try, len(train_dataset_10_way_split))\n",
        "        accuracy_std_test = torch.zeros(len(train_dataset_10_way_split))\n",
        "        accuracy_mean_test = torch.zeros(len(train_dataset_10_way_split))\n",
        "        \n",
        "        cum_acc = torch.zeros(N_try, len(train_dataset_10_way_split))\n",
        "        \n",
        "        acc_test_softmin = torch.zeros(N_try,len(train_dataset_10_way_split))\n",
        "        accuracy_mean_test_softmin = torch.zeros(len(train_dataset_10_way_split))\n",
        "        accuracy_std_test_softmin = torch.zeros(len(train_dataset_10_way_split))\n",
        "        N_address_use = torch.zeros(N_try)\n",
        "        self.forgetting = []\n",
        "        \n",
        "        self.n_mini_batch = n_mini_batch\n",
        "        self.Time_period = Time_period \n",
        "        self.ema = 2 / (Time_period + 1)\n",
        "\n",
        "        for idx_try in tqdm(range(N_try)):\n",
        "            self.reset()\n",
        "            Acc_test, Acc_test_softmin = self.train__test_n_way_split(train_dataset_10_way_split,\n",
        "                                                                      test_dataset_10_way_split,\n",
        "                                                                      ema_global_error=ema_global_error,\n",
        "                                                                      plot=False,\n",
        "                                                                      coef_global_error=coef_global_error)\n",
        "            if self.cum_acc_activ:\n",
        "                cum_acc[idx_try] = torch.tensor(self.cum_acc)\n",
        "            self.forgetting.append((self.acc_after_each_task * 100 - self.acc_aft_all_task).mean())\n",
        "            acc_test[idx_try] = Acc_test\n",
        "            acc_test_softmin[idx_try] = Acc_test_softmin\n",
        "            N_address_use[idx_try] = self.M.size(0)\n",
        "            # Random ordering for new training.\n",
        "            if random_ordering:\n",
        "                dataset_shuffle = list(zip(train_dataset_10_way_split, test_dataset_10_way_split))\n",
        "                random.shuffle(dataset_shuffle)\n",
        "                train_dataset_10_way_split, test_dataset_10_way_split = zip(*dataset_shuffle)\n",
        "\n",
        "        accuracy_mean_test = acc_test.mean(0)\n",
        "        accuracy_std_test = acc_test.std(0)\n",
        "        accuracy_mean_test_softmin = acc_test_softmin.mean(0)\n",
        "        acc_soft_mean = acc_test_softmin.mean(1)\n",
        "        accuracy_std_test_softmin = acc_test_softmin.std(0)\n",
        "\n",
        "        print(\"forgetting softmin inference = {:.1f} % ± {:.1f}\".format(np.mean(self.forgetting), np.std(self.forgetting)))\n",
        "\n",
        "        if plot:\n",
        "            plt.errorbar(np.linspace(1,len(accuracy_mean_test_softmin),len(accuracy_mean_test_softmin)),accuracy_mean_test_softmin,accuracy_std_test_softmin,linestyle='None', fmt='o',capsize = 5)\n",
        "            print(str(len(train_dataset_10_way_split))+\"-way split, MNIST test accuracy on all task = {:.1f} % ± {:.1f}, mean Address use =  {:.1f} \".format(acc_soft_mean.mean().item(), acc_soft_mean.std().item(),N_address_use.mean()))#\n",
        "            print([\"accuracy softmin T_softmin = {:.1f} \".format(self.T)])\n",
        "            plt.xlabel(\"task 1 to task \"+str(len(train_dataset_10_way_split)))\n",
        "            plt.ylabel(\"Test Accuracy\")\n",
        "            plt.ylim(bottom=40)\n",
        "            plt.savefig(\"DSDM MNIST.pdf\")\n",
        "            plt.show()\n",
        "          \n",
        "        return acc_soft_mean, N_address_use.mean(), acc_test, cum_acc\n"
      ],
      "metadata": {
        "id": "yqM_W0MmZsA_"
      },
      "execution_count": 6,
      "outputs": []
    },
    {
      "cell_type": "code",
      "source": [
        "img_size = 224\n",
        "model_name = \"resnet18\"\n",
        "dataset_name = \"Core50\""
      ],
      "metadata": {
        "id": "hAOVc2LfGG53"
      },
      "execution_count": 7,
      "outputs": []
    },
    {
      "cell_type": "code",
      "source": [
        "!gdown --id 1Yo7VJ93VGWQo070QHKB_6mG76iNDrVvT"
      ],
      "metadata": {
        "id": "6ac8JAb7KtPv",
        "colab": {
          "base_uri": "https://localhost:8080/"
        },
        "outputId": "d97bcfdb-3759-4d01-8d16-7606ac8199e2"
      },
      "execution_count": 8,
      "outputs": [
        {
          "output_type": "stream",
          "name": "stdout",
          "text": [
            "/usr/local/lib/python3.10/dist-packages/gdown/cli.py:121: FutureWarning: Option `--id` was deprecated in version 4.3.1 and will be removed in 5.0. You don't need to pass it anymore to use a file ID.\n",
            "  warnings.warn(\n",
            "Downloading...\n",
            "From: https://drive.google.com/uc?id=1Yo7VJ93VGWQo070QHKB_6mG76iNDrVvT\n",
            "To: /content/Core50_resnet18_224.pt\n",
            "100% 338M/338M [00:02<00:00, 133MB/s]\n"
          ]
        }
      ]
    },
    {
      "cell_type": "code",
      "source": [
        "file_path= \"/content/Core50_resnet18_224.pt\" \n",
        "bs = 50 # 50 samples per batch\n",
        "\n",
        "# Load data.\n",
        "trainset, testset, trainloader, testloader = load_preencoded_data(model_name, dataset_name, img_size, file_path=file_path)\n",
        "\n",
        "# Split train set into train set and validation set\n",
        "train_set, val_set = torch.utils.data.random_split(trainset, [25000, len(trainset)-25000])\n",
        "\n",
        "\n",
        "train_cifar100_100_way_split = []\n",
        "val_cifar100_100_way_split = []\n",
        "test_cifar100_100_way_split = []\n",
        "i = 0 # Used to construct labels\n",
        "\n",
        "train_cifar100_100_way_split.append(torch.utils.data.DataLoader(SubDataset(train_set, [i, i+1, i+2, i+3, i+4, i+5, i+6, i+7, i+8, i+9]),\n",
        "                                                                batch_size=bs,\n",
        "                                                                shuffle=True,\n",
        "                                                                num_workers=0))\n",
        "val_cifar100_100_way_split.append(torch.utils.data.DataLoader(SubDataset(val_set,[i, i+1, i+2, i+3, i+4, i+5, i+6, i+7, i+8, i+9]),\n",
        "                                                              batch_size=bs,\n",
        "                                                              shuffle=False,\n",
        "                                                              num_workers=0))\n",
        "test_cifar100_100_way_split.append(torch.utils.data.DataLoader(SubDataset(testset,[i, i+1, i+2, i+3, i+4, i+5, i+6, i+7, i+8, i+9]),\n",
        "                                                               batch_size=bs,\n",
        "                                                               shuffle=False,\n",
        "                                                               num_workers=0))\n",
        "for i in range(10, 50, 5):\n",
        "    train_cifar100_100_way_split.append(torch.utils.data.DataLoader(SubDataset(train_set, [i, i+1, i+2, i+3, i+4]),\n",
        "                                                                    batch_size=bs,\n",
        "                                                                    shuffle=True,\n",
        "                                                                    num_workers=0))\n",
        "    val_cifar100_100_way_split.append(torch.utils.data.DataLoader(SubDataset(val_set, [i, i+1, i+2, i+3, i+4]),\n",
        "                                                                  batch_size=bs,\n",
        "                                                                  shuffle=False,\n",
        "                                                                  num_workers=0))\n",
        "    test_cifar100_100_way_split.append(torch.utils.data.DataLoader(SubDataset(testset, [i, i+1, i+2, i+3, i+4]),\n",
        "                                                                   batch_size=bs,\n",
        "                                                                   shuffle=False,\n",
        "                                                                   num_workers=0))"
      ],
      "metadata": {
        "id": "kKaxPP9LZbfZ"
      },
      "execution_count": 9,
      "outputs": []
    },
    {
      "cell_type": "code",
      "source": [
        "accuracy_c100_100w"
      ],
      "metadata": {
        "colab": {
          "base_uri": "https://localhost:8080/",
          "height": 164
        },
        "id": "dIMdjfbRGcF0",
        "outputId": "0795a410-7afd-476c-9c89-337c46e5c0da"
      },
      "execution_count": 14,
      "outputs": [
        {
          "output_type": "error",
          "ename": "NameError",
          "evalue": "ignored",
          "traceback": [
            "\u001b[0;31m---------------------------------------------------------------------------\u001b[0m",
            "\u001b[0;31mNameError\u001b[0m                                 Traceback (most recent call last)",
            "\u001b[0;32m<ipython-input-14-c5e024cf5bc9>\u001b[0m in \u001b[0;36m<cell line: 1>\u001b[0;34m()\u001b[0m\n\u001b[0;32m----> 1\u001b[0;31m \u001b[0maccuracy_c100_100w\u001b[0m\u001b[0;34m\u001b[0m\u001b[0;34m\u001b[0m\u001b[0m\n\u001b[0m",
            "\u001b[0;31mNameError\u001b[0m: name 'accuracy_c100_100w' is not defined"
          ]
        }
      ]
    },
    {
      "cell_type": "code",
      "execution_count": 15,
      "metadata": {
        "colab": {
          "base_uri": "https://localhost:8080/",
          "height": 1000
        },
        "id": "i6SYEsfrZDql",
        "outputId": "2b6f0306-5541-454b-88a1-3f292e768c23"
      },
      "outputs": [
        {
          "output_type": "stream",
          "name": "stderr",
          "text": [
            "100%|██████████| 5/5 [01:40<00:00, 20.11s/it]\n"
          ]
        },
        {
          "output_type": "stream",
          "name": "stdout",
          "text": [
            "forgetting softmin inference = 4063.1 % ± 413.6\n",
            "9-way split, MNIST test accuracy on all task = 41.9 % ± 1.6, mean Address use =  1000.0 \n",
            "['accuracy softmin T_softmin = 2.3 ']\n"
          ]
        },
        {
          "output_type": "display_data",
          "data": {
            "text/plain": [
              "<Figure size 640x480 with 1 Axes>"
            ],
            "image/png": "[encoded data removed]"
          },
          "metadata": {}
        },
        {
          "output_type": "stream",
          "name": "stdout",
          "text": [
            "tensor(45.4808)\n",
            "tensor(41.9142) 1000\n"
          ]
        },
        {
          "output_type": "stream",
          "name": "stderr",
          "text": [
            "100%|██████████| 5/5 [01:54<00:00, 22.91s/it]\n"
          ]
        },
        {
          "output_type": "stream",
          "name": "stdout",
          "text": [
            "forgetting softmin inference = 5078.3 % ± 301.6\n",
            "9-way split, MNIST test accuracy on all task = 49.5 % ± 1.6, mean Address use =  2000.0 \n",
            "['accuracy softmin T_softmin = 2.3 ']\n"
          ]
        },
        {
          "output_type": "display_data",
          "data": {
            "text/plain": [
              "<Figure size 640x480 with 1 Axes>"
            ],
            "image/png": "[encoded data removed]"
          },
          "metadata": {}
        },
        {
          "output_type": "stream",
          "name": "stdout",
          "text": [
            "tensor(54.5155)\n",
            "tensor(49.4949) 2000\n"
          ]
        },
        {
          "output_type": "stream",
          "name": "stderr",
          "text": [
            "100%|██████████| 5/5 [02:56<00:00, 35.35s/it]\n"
          ]
        },
        {
          "output_type": "stream",
          "name": "stdout",
          "text": [
            "forgetting softmin inference = 6382.1 % ± 184.1\n",
            "9-way split, MNIST test accuracy on all task = 56.0 % ± 0.3, mean Address use =  5000.0 \n",
            "['accuracy softmin T_softmin = 2.3 ']\n"
          ]
        },
        {
          "output_type": "display_data",
          "data": {
            "text/plain": [
              "<Figure size 640x480 with 1 Axes>"
            ],
            "image/png": "[encoded data removed]"
          },
          "metadata": {}
        },
        {
          "output_type": "stream",
          "name": "stdout",
          "text": [
            "tensor(66.7153)\n",
            "tensor(55.9732) 5000\n"
          ]
        },
        {
          "output_type": "stream",
          "name": "stderr",
          "text": [
            "100%|██████████| 5/5 [03:10<00:00, 38.06s/it]\n"
          ]
        },
        {
          "output_type": "stream",
          "name": "stdout",
          "text": [
            "forgetting softmin inference = 7335.9 % ± 170.6\n",
            "9-way split, MNIST test accuracy on all task = 67.5 % ± 0.4, mean Address use =  10000.0 \n",
            "['accuracy softmin T_softmin = 2.3 ']\n"
          ]
        },
        {
          "output_type": "display_data",
          "data": {
            "text/plain": [
              "<Figure size 640x480 with 1 Axes>"
            ],
            "image/png": "[encoded data removed]"
          },
          "metadata": {}
        },
        {
          "output_type": "stream",
          "name": "stdout",
          "text": [
            "tensor(72.0152)\n",
            "tensor(67.5265) 10000\n"
          ]
        }
      ],
      "source": [
        "nprune = [1000, 2000, 5000, 10000]\n",
        "for i in nprune:\n",
        "    N_try = 5 \n",
        "    n_mini_batch = 55\n",
        "    alpha = 1\n",
        "    Time_period = 500\n",
        "    Time_period_temperature = 150\n",
        "\n",
        "    # Instantiate DSDM instance.\n",
        "    sonn = SONN(Time_period, n_mini_batch, 50, n_feat=512)\n",
        "    sonn.n_neighbors = 1000\n",
        "    sonn.contamination = \"auto\"\n",
        "    sonn.p_norm = \"fro\"\n",
        "    sonn.T = 2.3\n",
        "    sonn.pruning = True\n",
        "    sonn.N_prune = i\n",
        "    sonn.cum_acc_activ = True\n",
        "    sonn.Time_period_Temperature = Time_period_temperature\n",
        "\n",
        "    # Train and test DSDM.\n",
        "    accuracy_c100_100w, N_address_use_c100_100w, acc_test_softmin, cum_sum = sonn.grid_search_spread_factor(Time_period,\n",
        "                                                                                                            n_mini_batch,\n",
        "                                                                                                            train_cifar100_100_way_split,\n",
        "                                                                                                            test_cifar100_100_way_split,\n",
        "                                                                                                            N_try,\n",
        "                                                                                                            ema_global_error=\"diff\",\n",
        "                                                                                                            coef_global_error=alpha)\n",
        "    metric = accuracy_c100_100w.mean()\n",
        "    print(cum_sum.mean())\n",
        "    print(metric, len(sonn.Address))"
      ]
    }
  ]
}