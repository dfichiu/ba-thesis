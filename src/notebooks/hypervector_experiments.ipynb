{
 "cells": [
  {
   "attachments": {},
   "cell_type": "markdown",
   "id": "b31e1f74",
   "metadata": {},
   "source": [
    "# VSA "
   ]
  },
  {
   "cell_type": "code",
   "execution_count": 205,
   "id": "behavioral-peninsula",
   "metadata": {},
   "outputs": [],
   "source": [
    "import torchhd as thd\n",
    "import torch"
   ]
  },
  {
   "cell_type": "code",
   "execution_count": 206,
   "id": "fatal-carter",
   "metadata": {},
   "outputs": [],
   "source": [
    "dim = 3000 # Vector dimension. Why was it chosen this high? Cite papers where confusion is not possible after a certain value."
   ]
  },
  {
   "cell_type": "code",
   "execution_count": 207,
   "id": "marine-israel",
   "metadata": {},
   "outputs": [],
   "source": [
    "# Values\n",
    "vals = thd.MAPTensor.random(5, dim)\n",
    "\n",
    "# Positions\n",
    "positions = thd.MAPTensor.random(4, dim)\n",
    "\n",
    "sup = torch.zeros(dim)\n",
    "\n",
    "for val, pos in zip(vals[:-1], positions):\n",
    "    sup = torch.add(sup, pos.bind(val))\n",
    "sup = torch.add(sup, vals[-1])"
   ]
  },
  {
   "cell_type": "code",
   "execution_count": 208,
   "id": "4f56e6c1",
   "metadata": {},
   "outputs": [
    {
     "name": "stdout",
     "output_type": "stream",
     "text": [
      "MAPTensor(0.4537)\n",
      "MAPTensor(0.4702)\n",
      "MAPTensor(0.4402)\n",
      "MAPTensor(0.4478)\n",
      "MAPTensor(0.4478)\n"
     ]
    }
   ],
   "source": [
    "for val, pos in zip(vals[:-1], positions):\n",
    "    print(thd.cosine_similarity(pos.bind(sup), val))\n",
    "print(thd.cosine_similarity(sup, vals[-1]))"
   ]
  },
  {
   "cell_type": "code",
   "execution_count": 209,
   "id": "e45344db",
   "metadata": {},
   "outputs": [
    {
     "name": "stdout",
     "output_type": "stream",
     "text": [
      "MAPTensor(0.3867)\n",
      "MAPTensor(0.3973)\n",
      "MAPTensor(0.3560)\n",
      "MAPTensor(0.3880)\n",
      "MAPTensor(0.3760)\n"
     ]
    }
   ],
   "source": [
    "for val, pos in zip(vals[:-1], positions):\n",
    "    print(thd.cosine_similarity(pos.bind(sup).sgn(), val))\n",
    "print(thd.cosine_similarity(sup.sgn(), vals[-1]))"
   ]
  },
  {
   "cell_type": "code",
   "execution_count": 210,
   "id": "2acd33e3",
   "metadata": {},
   "outputs": [
    {
     "name": "stdout",
     "output_type": "stream",
     "text": [
      "MAPTensor(1.)\n",
      "MAPTensor(-0.0113)\n",
      "MAPTensor(0.8934)\n",
      "MAPTensor(0.4391)\n"
     ]
    }
   ],
   "source": [
    "sup = torch.sum(torch.stack([vals[0], vals[0], vals[1]]), dim=0)\n",
    "# Normalized similarities\n",
    "print(thd.cosine_similarity(sup.sgn(), vals[0]))\n",
    "print(thd.cosine_similarity(sup.sgn(), vals[1]))\n",
    "\n",
    "# Unnormalized similarities\n",
    "print(thd.cosine_similarity(sup, vals[0]))\n",
    "print(thd.cosine_similarity(sup, vals[1]))"
   ]
  },
  {
   "attachments": {},
   "cell_type": "markdown",
   "id": "9069580c",
   "metadata": {},
   "source": [
    "It follows that an update in which we add multiple HVs and then normalize, results in getting the ones that appear the most times. => problem if we have full updates"
   ]
  },
  {
   "cell_type": "code",
   "execution_count": 211,
   "id": "5b2a6d00",
   "metadata": {},
   "outputs": [
    {
     "name": "stdout",
     "output_type": "stream",
     "text": [
      "MAPTensor(0.7031)\n",
      "MAPTensor(0.7031)\n",
      "MAPTensor(0.7031)\n",
      "MAPTensor(0.7031)\n"
     ]
    }
   ],
   "source": [
    "sup = torch.sum(torch.stack([vals[0], vals[1]]), dim=0)\n",
    "# Unnormalized similarities\n",
    "print(thd.cosine_similarity(sup, vals[0]))\n",
    "print(thd.cosine_similarity(sup, vals[1]))\n",
    "# Normalized similarities\n",
    "print(thd.cosine_similarity(sup.sgn(), vals[0]))\n",
    "print(thd.cosine_similarity(sup.sgn(), vals[1]))"
   ]
  },
  {
   "cell_type": "code",
   "execution_count": 212,
   "id": "7a2d77f0",
   "metadata": {},
   "outputs": [
    {
     "name": "stdout",
     "output_type": "stream",
     "text": [
      "MAPTensor(0.7663)\n",
      "MAPTensor(0.7663)\n"
     ]
    }
   ],
   "source": [
    "memory = torch.sum(torch.stack([vals[0], vals[1], vals[0], vals[1], vals[0], vals[1], vals[0], vals[1], vals[0], vals[1], vals[0], vals[1], vals[2], vals[2], vals[2], vals[2], vals[2], vals[2], vals[2]]), dim=0)\n",
    "chunk = torch.sum(torch.stack([vals[0], vals[1]]), dim=0)\n",
    "# Unnormalized cosine similarity\n",
    "print(thd.cosine_similarity(memory, chunk))\n",
    "\n",
    "# Normalized similarities\n",
    "print(thd.cosine_similarity(memory, chunk))\n",
    "#print(thd.cosine_similarity(sup.sgn(), vals[1]))"
   ]
  },
  {
   "attachments": {},
   "cell_type": "markdown",
   "id": "3dcbb832",
   "metadata": {},
   "source": []
  },
  {
   "cell_type": "code",
   "execution_count": null,
   "id": "ea1e52ac",
   "metadata": {},
   "outputs": [],
   "source": []
  },
  {
   "cell_type": "code",
   "execution_count": null,
   "id": "b4b0f931",
   "metadata": {},
   "outputs": [],
   "source": []
  }
 ],
 "metadata": {
  "kernelspec": {
   "display_name": "ba-thesis-YAFM42rh-py3.10",
   "language": "python",
   "name": "python3"
  },
  "language_info": {
   "codemirror_mode": {
    "name": "ipython",
    "version": 3
   },
   "file_extension": ".py",
   "mimetype": "text/x-python",
   "name": "python",
   "nbconvert_exporter": "python",
   "pygments_lexer": "ipython3",
   "version": "3.10.11"
  },
  "vscode": {
   "interpreter": {
    "hash": "223de885f9f4a2509df2dbb720938968e20c135d66a6e004179d2919d7440a43"
   }
  }
 },
 "nbformat": 4,
 "nbformat_minor": 5
}
