{
 "cells": [
  {
   "cell_type": "markdown",
   "id": "statutory-binary",
   "metadata": {},
   "source": [
    "# VSA and SDM"
   ]
  },
  {
   "cell_type": "code",
   "execution_count": 1,
   "id": "remarkable-surface",
   "metadata": {},
   "outputs": [],
   "source": [
    "import torchhd as thd\n",
    "from hashlib import sha256\n",
    "import torch"
   ]
  },
  {
   "cell_type": "code",
   "execution_count": 2,
   "id": "minute-parallel",
   "metadata": {},
   "outputs": [],
   "source": [
    "dim = 2000 # Vector dimension. Why was it chosen this high? Cite papers where confusion is not possible after a certain value.\n",
    "n = 100000 # The no. of chunks found in the initial training set. \n",
    "\n",
    "cleanup = thd.memory.SparseDistributed(n, dim, dim) # cleanup/chunk memory. Use for querying and retrieval.\n",
    "\n",
    "# We also need a memory that keeps track of wether we have encountered a chunk (can also be understood as token) so far or not.\n",
    "encountered = {}"
   ]
  },
  {
   "cell_type": "code",
   "execution_count": 3,
   "id": "athletic-electricity",
   "metadata": {},
   "outputs": [],
   "source": [
    "tokens = [\"I\", \"go\", \"I\", \"go\"]\n",
    "\n",
    "# Generate 1-dim chunks.\n",
    "for token in tokens:\n",
    "    # If the chunk is hasn't been encountered before\n",
    "    if encountered.get(token) == None:\n",
    "        # Generate HV for value.\n",
    "        val = thd.MAPTensor.random(1, dim)\n",
    "        # Generate HV for key.\n",
    "        key = thd.MAPTensor.random(1, dim)\n",
    "        # Save val, key, and token in encountered memory\n",
    "        encountered[token] = {'val': val, 'key': key, 'cnt': 1}\n",
    "        # Add chunk representation (i.e., \"key * val\") to cleanup.\n",
    "        cleanup.write(keys=key, values=val)\n",
    "    # The chunk has been encountered before. Increase count value.\n",
    "    else:\n",
    "        encountered[token]['cnt'] += 1\n",
    "\n",
    "# Generate 2-dim chunks.\n",
    "# At this point we know for sure that we've encountered all the one-dimensional tokens.\n",
    "for first, second in zip(tokens[:-1], tokens[1:]):\n",
    "    # Generate HV for value.\n",
    "    val = encountered[first]['key'] * encountered[first]['val'] + encountered[second]['key'] * encountered[second]['val']\n",
    "    # Generate HV for key.\n",
    "    key = thd.MAPTensor.random(1, dim)\n",
    "    encountered_key = sha256(''.join([str(elem) for elem in val.tolist()[0]]).encode('utf-8')).hexdigest()\n",
    "    if encountered.get(encountered_key) == None:\n",
    "        encountered[encountered_key] = {'val': val, 'key': key, 'cnt': 1}\n",
    "        # Add chunk representation (i.e., \"key * val\") to cleanup.\n",
    "        cleanup.write(keys=key, values=val)\n",
    "    else:\n",
    "        encountered[encountered_key]['cnt'] += 1   "
   ]
  },
  {
   "cell_type": "code",
   "execution_count": 4,
   "id": "manufactured-lightweight",
   "metadata": {},
   "outputs": [
    {
     "data": {
      "text/plain": [
       "{'I': {'val': MAPTensor([[ 1.,  1., -1.,  ..., -1.,  1.,  1.]]),\n",
       "  'key': MAPTensor([[ 1.,  1.,  1.,  ...,  1., -1., -1.]]),\n",
       "  'cnt': 2},\n",
       " 'go': {'val': MAPTensor([[-1., -1., -1.,  ..., -1.,  1., -1.]]),\n",
       "  'key': MAPTensor([[-1.,  1.,  1.,  ...,  1., -1.,  1.]]),\n",
       "  'cnt': 2},\n",
       " 'e32c988a4d64ca8cd7eb03b5b9f92ae79ecac51df1a2621af558b46c0be25bb9': {'val': MAPTensor([[ 2.,  0., -2.,  ..., -2., -2., -2.]]),\n",
       "  'key': MAPTensor([[ 1., -1.,  1.,  ..., -1.,  1., -1.]]),\n",
       "  'cnt': 3}}"
      ]
     },
     "execution_count": 4,
     "metadata": {},
     "output_type": "execute_result"
    }
   ],
   "source": [
    "encountered"
   ]
  },
  {
   "cell_type": "code",
   "execution_count": 5,
   "id": "universal-german",
   "metadata": {},
   "outputs": [
    {
     "data": {
      "text/plain": [
       "MAPTensor([[ 1.,  1., -1.,  ..., -1.,  1.,  1.]])"
      ]
     },
     "execution_count": 5,
     "metadata": {},
     "output_type": "execute_result"
    }
   ],
   "source": [
    "cleanup.read(encountered['I'].get('key')).sign()"
   ]
  },
  {
   "cell_type": "code",
   "execution_count": 6,
   "id": "driven-exclusive",
   "metadata": {},
   "outputs": [],
   "source": [
    "# Values\n",
    "vals = thd.MAPTensor.random(5, dim)\n",
    "a, b, c, e, f = vals\n",
    "\n",
    "# Keys\n",
    "keys = thd.MAPTensor.random(5, dim)\n",
    "arg1, arg2, arg3, arg4, arg5 = keys\n",
    "\n",
    "# 2nd hyerachie\n",
    "frames = thd.random(2, dim)\n",
    "\n",
    "record_a = frames[0] * (arg1 * a + arg2 * b + arg3 * c + arg4 * e + arg5 * f)"
   ]
  },
  {
   "cell_type": "code",
   "execution_count": 7,
   "id": "reverse-failure",
   "metadata": {},
   "outputs": [],
   "source": [
    "# Retrieve value correpsonding to key arg1\n",
    "arg1_dec = record_a * frames[0] * arg1"
   ]
  },
  {
   "cell_type": "code",
   "execution_count": 8,
   "id": "frozen-myanmar",
   "metadata": {},
   "outputs": [],
   "source": [
    "sims = thd.cosine_similarity(arg1_dec, vals)"
   ]
  },
  {
   "cell_type": "code",
   "execution_count": 9,
   "id": "built-welsh",
   "metadata": {},
   "outputs": [
    {
     "data": {
      "text/plain": [
       "MAPTensor([ 4.4692e-01,  1.4516e-02, -2.4194e-02, -3.0792e-03, -4.3988e-04])"
      ]
     },
     "execution_count": 9,
     "metadata": {},
     "output_type": "execute_result"
    }
   ],
   "source": [
    "sims"
   ]
  },
  {
   "cell_type": "code",
   "execution_count": 10,
   "id": "inner-rebecca",
   "metadata": {},
   "outputs": [],
   "source": [
    "sdm = thd.memory.SparseDistributed(5, dim, dim)"
   ]
  },
  {
   "cell_type": "code",
   "execution_count": 11,
   "id": "eligible-theta",
   "metadata": {},
   "outputs": [],
   "source": [
    "sdm.write(keys=keys, values=vals)"
   ]
  },
  {
   "cell_type": "code",
   "execution_count": 12,
   "id": "clinical-capital",
   "metadata": {},
   "outputs": [],
   "source": [
    "read = sdm.read(keys)"
   ]
  },
  {
   "cell_type": "code",
   "execution_count": 13,
   "id": "liberal-experience",
   "metadata": {},
   "outputs": [
    {
     "data": {
      "text/plain": [
       "MAPTensor([[0., 0., 0., 0., 0.],\n",
       "           [0., 0., 0., 0., 0.],\n",
       "           [0., 0., 0., 0., 0.],\n",
       "           [0., 0., 0., 0., 0.],\n",
       "           [0., 0., 0., 0., 0.]])"
      ]
     },
     "execution_count": 13,
     "metadata": {},
     "output_type": "execute_result"
    }
   ],
   "source": [
    "thd.cosine_similarity(read, vals)"
   ]
  },
  {
   "cell_type": "code",
   "execution_count": 14,
   "id": "front-separation",
   "metadata": {},
   "outputs": [
    {
     "data": {
      "text/plain": [
       "MAPTensor([0., 0., 0.,  ..., 0., 0., 0.])"
      ]
     },
     "execution_count": 14,
     "metadata": {},
     "output_type": "execute_result"
    }
   ],
   "source": [
    "sdm.read(arg1)"
   ]
  },
  {
   "cell_type": "code",
   "execution_count": 15,
   "id": "hired-coast",
   "metadata": {},
   "outputs": [],
   "source": [
    "sdm.write(arg1, a)"
   ]
  },
  {
   "cell_type": "code",
   "execution_count": 16,
   "id": "august-going",
   "metadata": {},
   "outputs": [
    {
     "data": {
      "text/plain": [
       "MAPTensor([1., 1., 1.,  ..., 1., 1., 1.])"
      ]
     },
     "execution_count": 16,
     "metadata": {},
     "output_type": "execute_result"
    }
   ],
   "source": [
    "arg1"
   ]
  }
 ],
 "metadata": {
  "kernelspec": {
   "display_name": "Python 3 (ipykernel)",
   "language": "python",
   "name": "python3"
  },
  "language_info": {
   "codemirror_mode": {
    "name": "ipython",
    "version": 3
   },
   "file_extension": ".py",
   "mimetype": "text/x-python",
   "name": "python",
   "nbconvert_exporter": "python",
   "pygments_lexer": "ipython3",
   "version": "3.9.17"
  },
  "vscode": {
   "interpreter": {
    "hash": "223de885f9f4a2509df2dbb720938968e20c135d66a6e004179d2919d7440a43"
   }
  }
 },
 "nbformat": 4,
 "nbformat_minor": 5
}
