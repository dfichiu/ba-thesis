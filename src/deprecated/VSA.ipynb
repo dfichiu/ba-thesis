{
 "cells": [
  {
   "cell_type": "markdown",
   "id": "statutory-binary",
   "metadata": {},
   "source": [
    "# VSA "
   ]
  },
  {
   "cell_type": "code",
   "execution_count": 1,
   "id": "remarkable-surface",
   "metadata": {},
   "outputs": [],
   "source": [
    "import torchhd as thd\n",
    "from hashlib import sha256\n",
    "import torch"
   ]
  },
  {
   "cell_type": "code",
   "execution_count": 33,
   "id": "minute-parallel",
   "metadata": {},
   "outputs": [],
   "source": [
    "dim = 2000 # Vector dimension. Why was it chosen this high? Cite papers where confusion is not possible after a certain value.\n",
    "n = 100000 # The no. of chunks found in the initial training set. \n",
    "\n",
    "cleanup = thd.memory.SparseDistributed(n, dim, dim) # cleanup/chunk memory. Use for querying and retrieval.\n",
    "\n",
    "# We also need a memory that keeps track of wether we have encountered a chunk (can also be understood as token) so far or not.\n",
    "encountered = {}"
   ]
  },
  {
   "cell_type": "code",
   "execution_count": 34,
   "id": "athletic-electricity",
   "metadata": {},
   "outputs": [],
   "source": [
    "tokens = [\"I\", \"go\", \"I\", \"go\"]\n",
    "\n",
    "# Generate 1-dim chunks.\n",
    "for token in tokens:\n",
    "    # If the chunk is hasn't been encountered before\n",
    "    if encountered.get(token) == None:\n",
    "        # Generate HV for value.\n",
    "        val = thd.MAPTensor.random(1, dim)\n",
    "        # Generate HV for key.\n",
    "        key = thd.MAPTensor.random(1, dim)\n",
    "        # Save val, key, and token in encountered memory\n",
    "        encountered[token] = {'val': val, 'key': key, 'cnt': 1}\n",
    "        # Add chunk representation (i.e., \"key * val\") to cleanup.\n",
    "        cleanup.write(keys=key, values=val)\n",
    "    # The chunk has been encountered before. Increase count value.\n",
    "    else:\n",
    "        encountered[token]['cnt'] += 1\n",
    "\n",
    "# Generate 2-dim chunks.\n",
    "# At this point we know for sure that we've encountered all the one-dimensional tokens.\n",
    "for first, second in zip(tokens[:-1], tokens[1:]):\n",
    "    # Generate HV for value.\n",
    "    val = encountered[first]['key'] * encountered[first]['val'] + encountered[second]['key'] * encountered[second]['val']\n",
    "    # Generate HV for key.\n",
    "    key = thd.MAPTensor.random(1, dim)\n",
    "    encountered_key = sha256(''.join([str(elem) for elem in val.tolist()[0]]).encode('utf-8')).hexdigest()\n",
    "    if encountered.get(encountered_key) == None:\n",
    "        encountered[encountered_key] = {'val': val, 'key': key, 'cnt': 1}\n",
    "        # Add chunk representation (i.e., \"key * val\") to cleanup.\n",
    "        cleanup.write(keys=key, values=val)\n",
    "    else:\n",
    "        encountered[encountered_key]['cnt'] += 1   "
   ]
  },
  {
   "cell_type": "code",
   "execution_count": 35,
   "id": "manufactured-lightweight",
   "metadata": {},
   "outputs": [
    {
     "data": {
      "text/plain": [
       "{'I': {'val': MAPTensor([[-1.,  1., -1.,  ..., -1.,  1.,  1.]]),\n",
       "  'key': MAPTensor([[-1., -1., -1.,  ...,  1.,  1.,  1.]]),\n",
       "  'cnt': 2},\n",
       " 'go': {'val': MAPTensor([[-1.,  1.,  1.,  ...,  1., -1.,  1.]]),\n",
       "  'key': MAPTensor([[-1., -1., -1.,  ...,  1.,  1.,  1.]]),\n",
       "  'cnt': 2},\n",
       " '2276cb56fd20387de46aa9f66430d13f79001c5f4dfe535cd56c368c4adaf64f': {'val': MAPTensor([[ 2., -2.,  0.,  ...,  0.,  0.,  2.]]),\n",
       "  'key': MAPTensor([[ 1., -1., -1.,  ...,  1., -1.,  1.]]),\n",
       "  'cnt': 3}}"
      ]
     },
     "execution_count": 35,
     "metadata": {},
     "output_type": "execute_result"
    }
   ],
   "source": [
    "encountered"
   ]
  },
  {
   "cell_type": "code",
   "execution_count": null,
   "id": "universal-german",
   "metadata": {},
   "outputs": [],
   "source": [
    "cleanup.read(encountered['I'].get('key')).sign()"
   ]
  },
  {
   "cell_type": "code",
   "execution_count": null,
   "id": "driven-exclusive",
   "metadata": {},
   "outputs": [],
   "source": [
    "# Values\n",
    "vals = thd.MAPTensor.random(5, d)\n",
    "a, b, c, e, f = vals\n",
    "\n",
    "# Keys\n",
    "keys = thd.MAPTensor.random(5, d)\n",
    "arg1, arg2, arg3, arg4, arg5 = keys\n",
    "\n",
    "# 2nd hyerachie\n",
    "frames = thd.random(2, d)\n",
    "\n",
    "record_a = frames[0] * (arg1 * a + arg2 * b + arg3 * c + arg4 * e + arg5 * f)"
   ]
  },
  {
   "cell_type": "code",
   "execution_count": null,
   "id": "reverse-failure",
   "metadata": {},
   "outputs": [],
   "source": [
    "# Retrieve value correpsonding to key arg1\n",
    "arg1_dec = record_a * frames[0] * arg1"
   ]
  },
  {
   "cell_type": "code",
   "execution_count": null,
   "id": "frozen-myanmar",
   "metadata": {},
   "outputs": [],
   "source": [
    "sims = thd.cosine_similarity(arg1_dec, vals)"
   ]
  },
  {
   "cell_type": "code",
   "execution_count": null,
   "id": "built-welsh",
   "metadata": {},
   "outputs": [],
   "source": [
    "sims"
   ]
  },
  {
   "cell_type": "code",
   "execution_count": null,
   "id": "inner-rebecca",
   "metadata": {},
   "outputs": [],
   "source": [
    "sdm = thd.memory.SparseDistributed(5, d, d)"
   ]
  },
  {
   "cell_type": "code",
   "execution_count": null,
   "id": "eligible-theta",
   "metadata": {},
   "outputs": [],
   "source": [
    "sdm.write(keys=keys, values=vals)"
   ]
  },
  {
   "cell_type": "code",
   "execution_count": null,
   "id": "clinical-capital",
   "metadata": {},
   "outputs": [],
   "source": [
    "read = sdm.read(keys)"
   ]
  },
  {
   "cell_type": "code",
   "execution_count": null,
   "id": "liberal-experience",
   "metadata": {},
   "outputs": [],
   "source": [
    "thd.cosine_similarity(read, vals)"
   ]
  },
  {
   "cell_type": "code",
   "execution_count": null,
   "id": "front-separation",
   "metadata": {},
   "outputs": [],
   "source": [
    "sdm.read(arg1)"
   ]
  },
  {
   "cell_type": "code",
   "execution_count": null,
   "id": "hired-coast",
   "metadata": {},
   "outputs": [],
   "source": [
    "sdm.write(arg1, a)"
   ]
  },
  {
   "cell_type": "code",
   "execution_count": null,
   "id": "emerging-blade",
   "metadata": {},
   "outputs": [],
   "source": []
  },
  {
   "cell_type": "code",
   "execution_count": null,
   "id": "august-going",
   "metadata": {},
   "outputs": [],
   "source": [
    "arg1"
   ]
  },
  {
   "cell_type": "code",
   "execution_count": null,
   "id": "freelance-restriction",
   "metadata": {},
   "outputs": [],
   "source": [
    "arg"
   ]
  }
 ],
 "metadata": {
  "kernelspec": {
   "display_name": "Python 3",
   "language": "python",
   "name": "python3"
  },
  "language_info": {
   "codemirror_mode": {
    "name": "ipython",
    "version": 3
   },
   "file_extension": ".py",
   "mimetype": "text/x-python",
   "name": "python",
   "nbconvert_exporter": "python",
   "pygments_lexer": "ipython3",
   "version": "3.7.3"
  },
  "vscode": {
   "interpreter": {
    "hash": "223de885f9f4a2509df2dbb720938968e20c135d66a6e004179d2919d7440a43"
   }
  }
 },
 "nbformat": 4,
 "nbformat_minor": 5
}
