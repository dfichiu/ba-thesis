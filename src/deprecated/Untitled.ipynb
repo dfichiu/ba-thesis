{
 "cells": [
  {
   "cell_type": "code",
   "execution_count": 3,
   "id": "accredited-paragraph",
   "metadata": {},
   "outputs": [],
   "source": [
    "import sys\n",
    "import os\n",
    "\n",
    "# Get the absolute path of the parent directory.\n",
    "parent_dir = os.path.abspath(os.path.join(os.path.dirname(\"__file__\"), \"..\"))\n",
    "\n",
    "# Add the parent directory to the system path to be able to import modules from 'lib.'\n",
    "sys.path.append(parent_dir)"
   ]
  },
  {
   "cell_type": "code",
   "execution_count": 4,
   "id": "treated-penguin",
   "metadata": {},
   "outputs": [],
   "source": [
    "from lib.utils import preprocess\n",
    "\n",
    "import pathlib"
   ]
  },
  {
   "cell_type": "code",
   "execution_count": 7,
   "id": "burning-moldova",
   "metadata": {},
   "outputs": [],
   "source": [
    "text = pathlib.Path(\"../data/experiment_4/initial_training_data.txt\").read_text(encoding='utf-8')\n",
    "text = text.splitlines()"
   ]
  },
  {
   "cell_type": "code",
   "execution_count": 9,
   "id": "streaming-grill",
   "metadata": {},
   "outputs": [],
   "source": [
    "text = \" \".join([line.strip() for line in text])"
   ]
  },
  {
   "cell_type": "code",
   "execution_count": 15,
   "id": "national-twist",
   "metadata": {},
   "outputs": [
    {
     "name": "stdout",
     "output_type": "stream",
     "text": [
      "The red house is big.\n",
      "-----\n",
      "The green house is small.\n",
      "-----\n",
      "The blue house is tiny.\n",
      "-----\n",
      "The red house is big.\n",
      "-----\n",
      "The red house is small.\n",
      "-----\n",
      "The green house is mine.\n",
      "-----\n",
      "The flower is mine.\n",
      "-----\n",
      "The flower is small.\n",
      "-----\n",
      "The house is big.\n",
      "-----\n",
      "The ring is mine.\n"
     ]
    }
   ],
   "source": [
    "import nltk.data\n",
    "\n",
    "tokenizer = nltk.data.load('tokenizers/punkt/english.pickle')\n",
    "fp = open(\"../data/experiment_3/initial_training_data.txt\")\n",
    "data = fp.read()\n",
    "print('\\n-----\\n'.join(tokenizer.tokenize(data)))"
   ]
  },
  {
   "cell_type": "code",
   "execution_count": null,
   "id": "lined-vinyl",
   "metadata": {},
   "outputs": [],
   "source": []
  }
 ],
 "metadata": {
  "kernelspec": {
   "display_name": "bathesis",
   "language": "python",
   "name": "bathesis"
  },
  "language_info": {
   "codemirror_mode": {
    "name": "ipython",
    "version": 3
   },
   "file_extension": ".py",
   "mimetype": "text/x-python",
   "name": "python",
   "nbconvert_exporter": "python",
   "pygments_lexer": "ipython3",
   "version": "3.11.2"
  }
 },
 "nbformat": 4,
 "nbformat_minor": 5
}
