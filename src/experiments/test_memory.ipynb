{
 "cells": [
  {
   "cell_type": "code",
   "execution_count": 1,
   "id": "a2ea47ab",
   "metadata": {},
   "outputs": [],
   "source": [
    "import sys\n",
    "import os\n",
    "\n",
    "# Get the absolute path of the parent directory.\n",
    "parent_dir = os.path.abspath(os.path.join(os.path.dirname(\"__file__\"), \"..\"))\n",
    "\n",
    "# Add the parent directory to the system path to be able to import modules from 'lib.'\n",
    "sys.path.append(parent_dir)"
   ]
  },
  {
   "cell_type": "code",
   "execution_count": 2,
   "id": "b7b779e5",
   "metadata": {},
   "outputs": [],
   "source": [
    "%%capture\n",
    "import datasets\n",
    "\n",
    "import ipywidgets as widgets\n",
    "from IPython.display import HTML, Markdown as md\n",
    "import itertools\n",
    "\n",
    "from lib.memory import DSDM\n",
    "from lib.utils import cleanup, configs, inference, learning, utils \n",
    "\n",
    "import math\n",
    "import numpy as np\n",
    "import random\n",
    "\n",
    "import pandas as pd\n",
    "import pathlib\n",
    "import pickle\n",
    "\n",
    "import string\n",
    "\n",
    "\n",
    "### Package options ###\n",
    "pd.set_option('display.max_rows', 500)"
   ]
  },
  {
   "cell_type": "code",
   "execution_count": 3,
   "id": "01f7e83f",
   "metadata": {},
   "outputs": [
    {
     "data": {
      "text/markdown": [
       "Using seed: 41"
      ],
      "text/plain": [
       "<IPython.core.display.Markdown object>"
      ]
     },
     "metadata": {},
     "output_type": "display_data"
    }
   ],
   "source": [
    "# Set seed.\n",
    "utils.fix_seed(41)"
   ]
  },
  {
   "cell_type": "code",
   "execution_count": 4,
   "id": "dc1a8824",
   "metadata": {},
   "outputs": [],
   "source": [
    "### Utils ###\n",
    "def get_results(\n",
    "    sentences: list[str],\n",
    "    retrieve_mode: str,\n",
    "    remove_stopwords_inference: bool = True\n",
    ") -> None:\n",
    "    \n",
    "    # Retrieve content from memory.\n",
    "    retrieved_contents = inference.infer(\n",
    "        memory.address_size,\n",
    "        cleanup,\n",
    "        memory,\n",
    "        sentences,\n",
    "        retrieve_mode=retrieve_mode,\n",
    "        remove_stopwords=remove_stopwords_inference,\n",
    "        k=7, \n",
    "    )\n",
    "    \n",
    "    if retrieve_mode == \"top_k\":\n",
    "        sims_df = pd.DataFrame(columns=['sentence', 'token', 'similarity']) \n",
    "    \n",
    "        for s, addresses in zip(sentences, retrieved_contents):\n",
    "            display(md(f\"<ins>**Sentence:**</ins> {s}\"))\n",
    "            out_tables = []\n",
    "            for a in addresses:\n",
    "                address_sims_df = inference.get_similarities_to_atomic_set(\n",
    "                    a, cleanup, k=11)\n",
    "                out = widgets.Output()\n",
    "                with out:\n",
    "                    display(address_sims_df)\n",
    "                out_tables.append(out)\n",
    "            display(widgets.HBox(out_tables))\n",
    "        return\n",
    "    elif retrieve_mode == \"pooling\":  \n",
    "        sims_df = pd.DataFrame(columns=['sentence', 'token', 'similarity']) \n",
    "\n",
    "        for s, c in zip(sentences, retrieved_contents):\n",
    "            sentence_sims_df = inference.get_similarities_to_atomic_set(\n",
    "                c, cleanup)\n",
    "            sentence_sims_df['sentence'] = [s] * len(sentence_sims_df)\n",
    "            sims_df = pd.concat([sims_df, sentence_sims_df])\n",
    "\n",
    "        sims_df = sims_df.sort_values(['sentence', 'similarity'], ascending=False) \\\n",
    "                         .set_index(['sentence', 'token'])\n",
    "\n",
    "        display(sims_df)\n",
    "        return\n",
    "    else:  # unrecognized\n",
    "        display(md(\"Unrecognized retrieval mode.\"))\n",
    "        return"
   ]
  },
  {
   "cell_type": "code",
   "execution_count": 5,
   "id": "02f51d05",
   "metadata": {
    "scrolled": true
   },
   "outputs": [],
   "source": [
    "in_sentences = [\n",
    "    \"\"\"Blaine was reared in a Prohibition home, and while still a young girl, she became a very active participant at temperance meetings, where she won great favor for her songs and recitations.\"\"\",\n",
    "    \"\"\"In 1910, she was elected to the position of organizer and lecturer of the National WCTU.\"\"\",\n",
    "    \"\"\"Another feature of her work was the organization of temperance mass-meetings of Sunday-school children, usually preceded by a formal parade.\"\"\",\n",
    "    \"\"\"With all other games played, a victory over Everton had put United top of the group on nine points.\"\"\",\n",
    "    \"\"\"The 2022 FA Women's League Cup Final was the 11th final of the FA Women's League Cup, England's secondary cup competition for women's football teams and its primary league cup tournament.\"\"\",\n",
    "    \"\"\"In 2020 Mico's single 'igare' awarded as the best song of the summer in Kiss Summer Awards.\"\"\",\n",
    "    \"\"\"She collected the speech and words of Dublin city and donated her collection to the Department of Irish Folklore at University College, Dublin.\"\"\",\n",
    "    \"\"\"Traditional palyanytsya was baked from yeast dough.\"\"\",\n",
    "   \"\"\"First, hops were boiled in a pot, which was then poured into a makitra, to which sifted wheat flour was added.\"\"\",\n",
    "     \"\"\" Jonathan Holland of ScreenDaily deemed the film to be \"superbly directed by Palomero, who seems to have a special gift for seeing the world through children's eyes.\" \"\"\"   \n",
    "]"
   ]
  },
  {
   "cell_type": "code",
   "execution_count": 6,
   "id": "019070c2",
   "metadata": {},
   "outputs": [],
   "source": [
    "out_sentences = [\n",
    "    \"\"\"As the population of all of the towns grew, the need for better transportation between them also grew.\"\"\",\n",
    "    \"\"\"The construction of the line was the subject of a legal challenge.\"\"\",\n",
    "    \"\"\"The extremes, which can be fatal to healthy people within six hours, could affect hundreds of millions of people unused to such conditions.\"\"\",\n",
    "    \"\"\"Dangerous heat stress events will spread rapidly across the world as global heating continues.\"\"\",\n",
    "    \"\"\"Whether or not history will determine that we are living in an ever more divided culture, it certainly feels that way.\"\"\"\n",
    "]"
   ]
  },
  {
   "cell_type": "code",
   "execution_count": 7,
   "id": "fe4da686",
   "metadata": {
    "tags": [
     "parameters"
    ]
   },
   "outputs": [],
   "source": [
    "# Parametrized cell.\n",
    "filename = \"2023-09-10 13-01-52-622408.pkl\"\n",
    "experiment_no = 1"
   ]
  },
  {
   "cell_type": "code",
   "execution_count": 8,
   "id": "bcc5b76d",
   "metadata": {},
   "outputs": [],
   "source": [
    "# Load memory and associated cleanup.\n",
    "cleanup = pickle.load(open(f\"cleanups/method2/cleanup_{filename}\",'rb'))\n",
    "memory = pickle.load(open(f\"memories/method2/memory_{filename}\",'rb'))"
   ]
  },
  {
   "cell_type": "code",
   "execution_count": 9,
   "id": "d3a93324",
   "metadata": {
    "scrolled": true
   },
   "outputs": [
    {
     "data": {
      "text/markdown": [
       "# Mining Transfomer attention - Experiment 1"
      ],
      "text/plain": [
       "<IPython.core.display.Markdown object>"
      ]
     },
     "metadata": {},
     "output_type": "display_data"
    }
   ],
   "source": [
    "display(md(f\"# Mining Transfomer attention - Experiment {experiment_no}\"))"
   ]
  },
  {
   "cell_type": "markdown",
   "id": "7212f70f",
   "metadata": {},
   "source": [
    "## Memory visualiztion\n",
    "### Statistics"
   ]
  },
  {
   "cell_type": "code",
   "execution_count": 10,
   "id": "3cbf47d2",
   "metadata": {},
   "outputs": [
    {
     "data": {
      "text/markdown": [
       "Number of trained articles: 5010"
      ],
      "text/plain": [
       "<IPython.core.display.Markdown object>"
      ]
     },
     "metadata": {},
     "output_type": "display_data"
    },
    {
     "data": {
      "text/markdown": [
       "Number of memory updates: 234448"
      ],
      "text/plain": [
       "<IPython.core.display.Markdown object>"
      ]
     },
     "metadata": {},
     "output_type": "display_data"
    },
    {
     "data": {
      "text/markdown": [
       "Number of memory expansions: 136896"
      ],
      "text/plain": [
       "<IPython.core.display.Markdown object>"
      ]
     },
     "metadata": {},
     "output_type": "display_data"
    },
    {
     "data": {
      "text/markdown": [
       "Updates percentage: 0.631%"
      ],
      "text/plain": [
       "<IPython.core.display.Markdown object>"
      ]
     },
     "metadata": {},
     "output_type": "display_data"
    },
    {
     "data": {
      "text/markdown": [
       "Number of existing memory addresses: 136896"
      ],
      "text/plain": [
       "<IPython.core.display.Markdown object>"
      ]
     },
     "metadata": {},
     "output_type": "display_data"
    }
   ],
   "source": [
    "display(md(f\"Number of trained articles: {len(memory.wiki_articles)}\"))\n",
    "display(md(f\"Number of memory updates: {memory.n_updates}\"))\n",
    "display(md(f\"Number of memory expansions: {memory.n_expansions}\"))\n",
    "display(md(f\"Updates percentage: {round(memory.n_updates / (memory.n_updates + memory.n_expansions), 3)}%\"))\n",
    "display(md(f\"Number of existing memory addresses: {len(memory.addresses)}\"))"
   ]
  },
  {
   "cell_type": "markdown",
   "id": "79e0b11c",
   "metadata": {},
   "source": [
    "### Addresses"
   ]
  },
  {
   "cell_type": "code",
   "execution_count": 11,
   "id": "9d31e2b3",
   "metadata": {},
   "outputs": [],
   "source": [
    "# addresses = np.random.randint(0, len(memory.addresses), size=30)\n",
    "\n",
    "# for address in addresses:\n",
    "#     display(md(f\"### <ins>Address {address}</ins>\"))\n",
    "#     display(md(f\"Address **chunk score:** {memory.scores[address][0]}, **bin score:** {memory.scores[address][1]}\"))\n",
    "#     address_sims_df = inference.get_similarities_to_atomic_set(\n",
    "#             memory.addresses[address],\n",
    "#             cleanup,\n",
    "#     )\n",
    "#     display(address_sims_df)"
   ]
  },
  {
   "cell_type": "markdown",
   "id": "195a5aa7",
   "metadata": {},
   "source": [
    "## In-sample sentences\n",
    "### W/ stop words in inference sentence\n",
    "#### Closest addresses"
   ]
  },
  {
   "cell_type": "code",
   "execution_count": 12,
   "id": "01f634d5",
   "metadata": {
    "scrolled": false
   },
   "outputs": [
    {
     "data": {
      "text/markdown": [
       "<ins>**Sentence:**</ins> Blaine was reared in a Prohibition home, and while still a young girl, she became a very active participant at temperance meetings, where she won great favor for her songs and recitations."
      ],
      "text/plain": [
       "<IPython.core.display.Markdown object>"
      ]
     },
     "metadata": {},
     "output_type": "display_data"
    },
    {
     "data": {
      "application/vnd.jupyter.widget-view+json": {
       "model_id": "19470da74a264536bb4922189d1ef963",
       "version_major": 2,
       "version_minor": 0
      },
      "text/plain": [
       "HBox(children=(Output(), Output(), Output(), Output(), Output(), Output(), Output()))"
      ]
     },
     "metadata": {},
     "output_type": "display_data"
    },
    {
     "data": {
      "text/markdown": [
       "<ins>**Sentence:**</ins> In 1910, she was elected to the position of organizer and lecturer of the National WCTU."
      ],
      "text/plain": [
       "<IPython.core.display.Markdown object>"
      ]
     },
     "metadata": {},
     "output_type": "display_data"
    },
    {
     "data": {
      "application/vnd.jupyter.widget-view+json": {
       "model_id": "e0383fe6b95144d2866a8dde6d77bbf4",
       "version_major": 2,
       "version_minor": 0
      },
      "text/plain": [
       "HBox(children=(Output(), Output(), Output(), Output(), Output(), Output(), Output()))"
      ]
     },
     "metadata": {},
     "output_type": "display_data"
    },
    {
     "data": {
      "text/markdown": [
       "<ins>**Sentence:**</ins> Another feature of her work was the organization of temperance mass-meetings of Sunday-school children, usually preceded by a formal parade."
      ],
      "text/plain": [
       "<IPython.core.display.Markdown object>"
      ]
     },
     "metadata": {},
     "output_type": "display_data"
    },
    {
     "data": {
      "application/vnd.jupyter.widget-view+json": {
       "model_id": "3265c5eb344646528af3187679c28fb1",
       "version_major": 2,
       "version_minor": 0
      },
      "text/plain": [
       "HBox(children=(Output(), Output(), Output(), Output(), Output(), Output(), Output()))"
      ]
     },
     "metadata": {},
     "output_type": "display_data"
    }
   ],
   "source": [
    "get_results(in_sentences[:3], \"top_k\", False)"
   ]
  },
  {
   "cell_type": "markdown",
   "id": "5e75ad79",
   "metadata": {},
   "source": [
    "#### Pooled address space"
   ]
  },
  {
   "cell_type": "code",
   "execution_count": 13,
   "id": "8e947359",
   "metadata": {},
   "outputs": [
    {
     "data": {
      "text/html": [
       "<div>\n",
       "<style scoped>\n",
       "    .dataframe tbody tr th:only-of-type {\n",
       "        vertical-align: middle;\n",
       "    }\n",
       "\n",
       "    .dataframe tbody tr th {\n",
       "        vertical-align: top;\n",
       "    }\n",
       "\n",
       "    .dataframe thead th {\n",
       "        text-align: right;\n",
       "    }\n",
       "</style>\n",
       "<table border=\"1\" class=\"dataframe\">\n",
       "  <thead>\n",
       "    <tr style=\"text-align: right;\">\n",
       "      <th></th>\n",
       "      <th></th>\n",
       "      <th>similarity</th>\n",
       "    </tr>\n",
       "    <tr>\n",
       "      <th>sentence</th>\n",
       "      <th>token</th>\n",
       "      <th></th>\n",
       "    </tr>\n",
       "  </thead>\n",
       "  <tbody>\n",
       "    <tr>\n",
       "      <th rowspan=\"10\" valign=\"top\">In 1910, she was elected to the position of organizer and lecturer of the National WCTU.</th>\n",
       "      <th>the</th>\n",
       "      <td>0.60</td>\n",
       "    </tr>\n",
       "    <tr>\n",
       "      <th>of</th>\n",
       "      <td>0.51</td>\n",
       "    </tr>\n",
       "    <tr>\n",
       "      <th>to</th>\n",
       "      <td>0.26</td>\n",
       "    </tr>\n",
       "    <tr>\n",
       "      <th>wctu</th>\n",
       "      <td>0.26</td>\n",
       "    </tr>\n",
       "    <tr>\n",
       "      <th>in</th>\n",
       "      <td>0.24</td>\n",
       "    </tr>\n",
       "    <tr>\n",
       "      <th>and</th>\n",
       "      <td>0.20</td>\n",
       "    </tr>\n",
       "    <tr>\n",
       "      <th>was</th>\n",
       "      <td>0.19</td>\n",
       "    </tr>\n",
       "    <tr>\n",
       "      <th>a</th>\n",
       "      <td>0.16</td>\n",
       "    </tr>\n",
       "    <tr>\n",
       "      <th>claiming</th>\n",
       "      <td>0.12</td>\n",
       "    </tr>\n",
       "    <tr>\n",
       "      <th>diagnosed</th>\n",
       "      <td>0.12</td>\n",
       "    </tr>\n",
       "    <tr>\n",
       "      <th rowspan=\"10\" valign=\"top\">Blaine was reared in a Prohibition home, and while still a young girl, she became a very active participant at temperance meetings, where she won great favor for her songs and recitations.</th>\n",
       "      <th>the</th>\n",
       "      <td>0.44</td>\n",
       "    </tr>\n",
       "    <tr>\n",
       "      <th>a</th>\n",
       "      <td>0.38</td>\n",
       "    </tr>\n",
       "    <tr>\n",
       "      <th>of</th>\n",
       "      <td>0.38</td>\n",
       "    </tr>\n",
       "    <tr>\n",
       "      <th>in</th>\n",
       "      <td>0.31</td>\n",
       "    </tr>\n",
       "    <tr>\n",
       "      <th>and</th>\n",
       "      <td>0.28</td>\n",
       "    </tr>\n",
       "    <tr>\n",
       "      <th>was</th>\n",
       "      <td>0.21</td>\n",
       "    </tr>\n",
       "    <tr>\n",
       "      <th>to</th>\n",
       "      <td>0.19</td>\n",
       "    </tr>\n",
       "    <tr>\n",
       "      <th>wctu</th>\n",
       "      <td>0.19</td>\n",
       "    </tr>\n",
       "    <tr>\n",
       "      <th>an</th>\n",
       "      <td>0.14</td>\n",
       "    </tr>\n",
       "    <tr>\n",
       "      <th>claiming</th>\n",
       "      <td>0.13</td>\n",
       "    </tr>\n",
       "    <tr>\n",
       "      <th rowspan=\"10\" valign=\"top\">Another feature of her work was the organization of temperance mass-meetings of Sunday-school children, usually preceded by a formal parade.</th>\n",
       "      <th>of</th>\n",
       "      <td>0.64</td>\n",
       "    </tr>\n",
       "    <tr>\n",
       "      <th>the</th>\n",
       "      <td>0.48</td>\n",
       "    </tr>\n",
       "    <tr>\n",
       "      <th>a</th>\n",
       "      <td>0.26</td>\n",
       "    </tr>\n",
       "    <tr>\n",
       "      <th>in</th>\n",
       "      <td>0.21</td>\n",
       "    </tr>\n",
       "    <tr>\n",
       "      <th>was</th>\n",
       "      <td>0.19</td>\n",
       "    </tr>\n",
       "    <tr>\n",
       "      <th>and</th>\n",
       "      <td>0.18</td>\n",
       "    </tr>\n",
       "    <tr>\n",
       "      <th>to</th>\n",
       "      <td>0.15</td>\n",
       "    </tr>\n",
       "    <tr>\n",
       "      <th>wctu</th>\n",
       "      <td>0.15</td>\n",
       "    </tr>\n",
       "    <tr>\n",
       "      <th>claiming</th>\n",
       "      <td>0.13</td>\n",
       "    </tr>\n",
       "    <tr>\n",
       "      <th>by</th>\n",
       "      <td>0.13</td>\n",
       "    </tr>\n",
       "  </tbody>\n",
       "</table>\n",
       "</div>"
      ],
      "text/plain": [
       "                                                              similarity\n",
       "sentence                                           token                \n",
       "In 1910, she was elected to the position of org... the              0.60\n",
       "                                                   of               0.51\n",
       "                                                   to               0.26\n",
       "                                                   wctu             0.26\n",
       "                                                   in               0.24\n",
       "                                                   and              0.20\n",
       "                                                   was              0.19\n",
       "                                                   a                0.16\n",
       "                                                   claiming         0.12\n",
       "                                                   diagnosed        0.12\n",
       "Blaine was reared in a Prohibition home, and wh... the              0.44\n",
       "                                                   a                0.38\n",
       "                                                   of               0.38\n",
       "                                                   in               0.31\n",
       "                                                   and              0.28\n",
       "                                                   was              0.21\n",
       "                                                   to               0.19\n",
       "                                                   wctu             0.19\n",
       "                                                   an               0.14\n",
       "                                                   claiming         0.13\n",
       "Another feature of her work was the organizatio... of               0.64\n",
       "                                                   the              0.48\n",
       "                                                   a                0.26\n",
       "                                                   in               0.21\n",
       "                                                   was              0.19\n",
       "                                                   and              0.18\n",
       "                                                   to               0.15\n",
       "                                                   wctu             0.15\n",
       "                                                   claiming         0.13\n",
       "                                                   by               0.13"
      ]
     },
     "metadata": {},
     "output_type": "display_data"
    }
   ],
   "source": [
    "get_results(in_sentences[:3], \"pooling\", False)"
   ]
  },
  {
   "cell_type": "markdown",
   "id": "a0c7f777",
   "metadata": {},
   "source": [
    "### W/o stop words in inference sentence"
   ]
  },
  {
   "cell_type": "code",
   "execution_count": 14,
   "id": "05f17f25",
   "metadata": {
    "scrolled": false
   },
   "outputs": [
    {
     "data": {
      "text/markdown": [
       "<ins>**Sentence:**</ins> Blaine was reared in a Prohibition home, and while still a young girl, she became a very active participant at temperance meetings, where she won great favor for her songs and recitations."
      ],
      "text/plain": [
       "<IPython.core.display.Markdown object>"
      ]
     },
     "metadata": {},
     "output_type": "display_data"
    },
    {
     "data": {
      "application/vnd.jupyter.widget-view+json": {
       "model_id": "4b7ef106c86241fb8fd716eeaf260aff",
       "version_major": 2,
       "version_minor": 0
      },
      "text/plain": [
       "HBox(children=(Output(), Output(), Output(), Output(), Output(), Output(), Output()))"
      ]
     },
     "metadata": {},
     "output_type": "display_data"
    },
    {
     "data": {
      "text/markdown": [
       "<ins>**Sentence:**</ins> In 1910, she was elected to the position of organizer and lecturer of the National WCTU."
      ],
      "text/plain": [
       "<IPython.core.display.Markdown object>"
      ]
     },
     "metadata": {},
     "output_type": "display_data"
    },
    {
     "data": {
      "application/vnd.jupyter.widget-view+json": {
       "model_id": "517944414cc7416b9f97567aeda68fa7",
       "version_major": 2,
       "version_minor": 0
      },
      "text/plain": [
       "HBox(children=(Output(), Output(), Output(), Output(), Output(), Output(), Output()))"
      ]
     },
     "metadata": {},
     "output_type": "display_data"
    },
    {
     "data": {
      "text/markdown": [
       "<ins>**Sentence:**</ins> Another feature of her work was the organization of temperance mass-meetings of Sunday-school children, usually preceded by a formal parade."
      ],
      "text/plain": [
       "<IPython.core.display.Markdown object>"
      ]
     },
     "metadata": {},
     "output_type": "display_data"
    },
    {
     "data": {
      "application/vnd.jupyter.widget-view+json": {
       "model_id": "a174a3811a9b469bb978a63317df9a7f",
       "version_major": 2,
       "version_minor": 0
      },
      "text/plain": [
       "HBox(children=(Output(), Output(), Output(), Output(), Output(), Output(), Output()))"
      ]
     },
     "metadata": {},
     "output_type": "display_data"
    }
   ],
   "source": [
    "get_results(in_sentences[:3], \"top_k\", True)"
   ]
  },
  {
   "cell_type": "code",
   "execution_count": 15,
   "id": "4cd1546f",
   "metadata": {},
   "outputs": [
    {
     "data": {
      "text/html": [
       "<div>\n",
       "<style scoped>\n",
       "    .dataframe tbody tr th:only-of-type {\n",
       "        vertical-align: middle;\n",
       "    }\n",
       "\n",
       "    .dataframe tbody tr th {\n",
       "        vertical-align: top;\n",
       "    }\n",
       "\n",
       "    .dataframe thead th {\n",
       "        text-align: right;\n",
       "    }\n",
       "</style>\n",
       "<table border=\"1\" class=\"dataframe\">\n",
       "  <thead>\n",
       "    <tr style=\"text-align: right;\">\n",
       "      <th></th>\n",
       "      <th></th>\n",
       "      <th>similarity</th>\n",
       "    </tr>\n",
       "    <tr>\n",
       "      <th>sentence</th>\n",
       "      <th>token</th>\n",
       "      <th></th>\n",
       "    </tr>\n",
       "  </thead>\n",
       "  <tbody>\n",
       "    <tr>\n",
       "      <th rowspan=\"10\" valign=\"top\">In 1910, she was elected to the position of organizer and lecturer of the National WCTU.</th>\n",
       "      <th>the</th>\n",
       "      <td>0.47</td>\n",
       "    </tr>\n",
       "    <tr>\n",
       "      <th>of</th>\n",
       "      <td>0.40</td>\n",
       "    </tr>\n",
       "    <tr>\n",
       "      <th>to</th>\n",
       "      <td>0.39</td>\n",
       "    </tr>\n",
       "    <tr>\n",
       "      <th>wctu</th>\n",
       "      <td>0.39</td>\n",
       "    </tr>\n",
       "    <tr>\n",
       "      <th>in</th>\n",
       "      <td>0.24</td>\n",
       "    </tr>\n",
       "    <tr>\n",
       "      <th>a</th>\n",
       "      <td>0.22</td>\n",
       "    </tr>\n",
       "    <tr>\n",
       "      <th>and</th>\n",
       "      <td>0.20</td>\n",
       "    </tr>\n",
       "    <tr>\n",
       "      <th>was</th>\n",
       "      <td>0.18</td>\n",
       "    </tr>\n",
       "    <tr>\n",
       "      <th>is</th>\n",
       "      <td>0.15</td>\n",
       "    </tr>\n",
       "    <tr>\n",
       "      <th>on</th>\n",
       "      <td>0.14</td>\n",
       "    </tr>\n",
       "    <tr>\n",
       "      <th rowspan=\"10\" valign=\"top\">Blaine was reared in a Prohibition home, and while still a young girl, she became a very active participant at temperance meetings, where she won great favor for her songs and recitations.</th>\n",
       "      <th>the</th>\n",
       "      <td>0.52</td>\n",
       "    </tr>\n",
       "    <tr>\n",
       "      <th>of</th>\n",
       "      <td>0.37</td>\n",
       "    </tr>\n",
       "    <tr>\n",
       "      <th>in</th>\n",
       "      <td>0.27</td>\n",
       "    </tr>\n",
       "    <tr>\n",
       "      <th>wctu</th>\n",
       "      <td>0.23</td>\n",
       "    </tr>\n",
       "    <tr>\n",
       "      <th>to</th>\n",
       "      <td>0.23</td>\n",
       "    </tr>\n",
       "    <tr>\n",
       "      <th>a</th>\n",
       "      <td>0.23</td>\n",
       "    </tr>\n",
       "    <tr>\n",
       "      <th>and</th>\n",
       "      <td>0.22</td>\n",
       "    </tr>\n",
       "    <tr>\n",
       "      <th>was</th>\n",
       "      <td>0.19</td>\n",
       "    </tr>\n",
       "    <tr>\n",
       "      <th>is</th>\n",
       "      <td>0.17</td>\n",
       "    </tr>\n",
       "    <tr>\n",
       "      <th>an</th>\n",
       "      <td>0.15</td>\n",
       "    </tr>\n",
       "    <tr>\n",
       "      <th rowspan=\"10\" valign=\"top\">Another feature of her work was the organization of temperance mass-meetings of Sunday-school children, usually preceded by a formal parade.</th>\n",
       "      <th>the</th>\n",
       "      <td>0.48</td>\n",
       "    </tr>\n",
       "    <tr>\n",
       "      <th>of</th>\n",
       "      <td>0.41</td>\n",
       "    </tr>\n",
       "    <tr>\n",
       "      <th>in</th>\n",
       "      <td>0.27</td>\n",
       "    </tr>\n",
       "    <tr>\n",
       "      <th>a</th>\n",
       "      <td>0.24</td>\n",
       "    </tr>\n",
       "    <tr>\n",
       "      <th>and</th>\n",
       "      <td>0.23</td>\n",
       "    </tr>\n",
       "    <tr>\n",
       "      <th>wctu</th>\n",
       "      <td>0.22</td>\n",
       "    </tr>\n",
       "    <tr>\n",
       "      <th>to</th>\n",
       "      <td>0.22</td>\n",
       "    </tr>\n",
       "    <tr>\n",
       "      <th>was</th>\n",
       "      <td>0.19</td>\n",
       "    </tr>\n",
       "    <tr>\n",
       "      <th>an</th>\n",
       "      <td>0.16</td>\n",
       "    </tr>\n",
       "    <tr>\n",
       "      <th>is</th>\n",
       "      <td>0.16</td>\n",
       "    </tr>\n",
       "  </tbody>\n",
       "</table>\n",
       "</div>"
      ],
      "text/plain": [
       "                                                          similarity\n",
       "sentence                                           token            \n",
       "In 1910, she was elected to the position of org... the          0.47\n",
       "                                                   of           0.40\n",
       "                                                   to           0.39\n",
       "                                                   wctu         0.39\n",
       "                                                   in           0.24\n",
       "                                                   a            0.22\n",
       "                                                   and          0.20\n",
       "                                                   was          0.18\n",
       "                                                   is           0.15\n",
       "                                                   on           0.14\n",
       "Blaine was reared in a Prohibition home, and wh... the          0.52\n",
       "                                                   of           0.37\n",
       "                                                   in           0.27\n",
       "                                                   wctu         0.23\n",
       "                                                   to           0.23\n",
       "                                                   a            0.23\n",
       "                                                   and          0.22\n",
       "                                                   was          0.19\n",
       "                                                   is           0.17\n",
       "                                                   an           0.15\n",
       "Another feature of her work was the organizatio... the          0.48\n",
       "                                                   of           0.41\n",
       "                                                   in           0.27\n",
       "                                                   a            0.24\n",
       "                                                   and          0.23\n",
       "                                                   wctu         0.22\n",
       "                                                   to           0.22\n",
       "                                                   was          0.19\n",
       "                                                   an           0.16\n",
       "                                                   is           0.16"
      ]
     },
     "metadata": {},
     "output_type": "display_data"
    }
   ],
   "source": [
    "get_results(in_sentences[:3], \"pooling\", True)"
   ]
  },
  {
   "cell_type": "markdown",
   "id": "d026bec2",
   "metadata": {},
   "source": [
    "## Out-of-sample sentences\n",
    "### W/ stop words in inference sentence\n",
    "#### Closest addresses"
   ]
  },
  {
   "cell_type": "code",
   "execution_count": 16,
   "id": "e65a484a",
   "metadata": {},
   "outputs": [
    {
     "data": {
      "text/markdown": [
       "<ins>**Sentence:**</ins> As the population of all of the towns grew, the need for better transportation between them also grew."
      ],
      "text/plain": [
       "<IPython.core.display.Markdown object>"
      ]
     },
     "metadata": {},
     "output_type": "display_data"
    },
    {
     "data": {
      "application/vnd.jupyter.widget-view+json": {
       "model_id": "372bc1781aa64e309f2944a138fe6b7b",
       "version_major": 2,
       "version_minor": 0
      },
      "text/plain": [
       "HBox(children=(Output(), Output(), Output(), Output(), Output(), Output(), Output()))"
      ]
     },
     "metadata": {},
     "output_type": "display_data"
    },
    {
     "data": {
      "text/markdown": [
       "<ins>**Sentence:**</ins> The construction of the line was the subject of a legal challenge."
      ],
      "text/plain": [
       "<IPython.core.display.Markdown object>"
      ]
     },
     "metadata": {},
     "output_type": "display_data"
    },
    {
     "data": {
      "application/vnd.jupyter.widget-view+json": {
       "model_id": "105d1a14be25418d8740935813172bf5",
       "version_major": 2,
       "version_minor": 0
      },
      "text/plain": [
       "HBox(children=(Output(), Output(), Output(), Output(), Output(), Output(), Output()))"
      ]
     },
     "metadata": {},
     "output_type": "display_data"
    },
    {
     "data": {
      "text/markdown": [
       "<ins>**Sentence:**</ins> The extremes, which can be fatal to healthy people within six hours, could affect hundreds of millions of people unused to such conditions."
      ],
      "text/plain": [
       "<IPython.core.display.Markdown object>"
      ]
     },
     "metadata": {},
     "output_type": "display_data"
    },
    {
     "data": {
      "application/vnd.jupyter.widget-view+json": {
       "model_id": "915ffd1232de45bfb0cd41cb4eac1847",
       "version_major": 2,
       "version_minor": 0
      },
      "text/plain": [
       "HBox(children=(Output(), Output(), Output(), Output(), Output(), Output(), Output()))"
      ]
     },
     "metadata": {},
     "output_type": "display_data"
    }
   ],
   "source": [
    "get_results(out_sentences[:3], \"top_k\", False)"
   ]
  },
  {
   "cell_type": "markdown",
   "id": "8aaf95df",
   "metadata": {},
   "source": [
    "#### Pooled address space"
   ]
  },
  {
   "cell_type": "code",
   "execution_count": 17,
   "id": "f1a88b6d",
   "metadata": {},
   "outputs": [
    {
     "data": {
      "text/html": [
       "<div>\n",
       "<style scoped>\n",
       "    .dataframe tbody tr th:only-of-type {\n",
       "        vertical-align: middle;\n",
       "    }\n",
       "\n",
       "    .dataframe tbody tr th {\n",
       "        vertical-align: top;\n",
       "    }\n",
       "\n",
       "    .dataframe thead th {\n",
       "        text-align: right;\n",
       "    }\n",
       "</style>\n",
       "<table border=\"1\" class=\"dataframe\">\n",
       "  <thead>\n",
       "    <tr style=\"text-align: right;\">\n",
       "      <th></th>\n",
       "      <th></th>\n",
       "      <th>similarity</th>\n",
       "    </tr>\n",
       "    <tr>\n",
       "      <th>sentence</th>\n",
       "      <th>token</th>\n",
       "      <th></th>\n",
       "    </tr>\n",
       "  </thead>\n",
       "  <tbody>\n",
       "    <tr>\n",
       "      <th rowspan=\"10\" valign=\"top\">The extremes, which can be fatal to healthy people within six hours, could affect hundreds of millions of people unused to such conditions.</th>\n",
       "      <th>of</th>\n",
       "      <td>0.53</td>\n",
       "    </tr>\n",
       "    <tr>\n",
       "      <th>the</th>\n",
       "      <td>0.50</td>\n",
       "    </tr>\n",
       "    <tr>\n",
       "      <th>to</th>\n",
       "      <td>0.29</td>\n",
       "    </tr>\n",
       "    <tr>\n",
       "      <th>wctu</th>\n",
       "      <td>0.29</td>\n",
       "    </tr>\n",
       "    <tr>\n",
       "      <th>a</th>\n",
       "      <td>0.27</td>\n",
       "    </tr>\n",
       "    <tr>\n",
       "      <th>extremes</th>\n",
       "      <td>0.27</td>\n",
       "    </tr>\n",
       "    <tr>\n",
       "      <th>in</th>\n",
       "      <td>0.21</td>\n",
       "    </tr>\n",
       "    <tr>\n",
       "      <th>and</th>\n",
       "      <td>0.18</td>\n",
       "    </tr>\n",
       "    <tr>\n",
       "      <th>was</th>\n",
       "      <td>0.17</td>\n",
       "    </tr>\n",
       "    <tr>\n",
       "      <th>an</th>\n",
       "      <td>0.14</td>\n",
       "    </tr>\n",
       "    <tr>\n",
       "      <th rowspan=\"10\" valign=\"top\">The construction of the line was the subject of a legal challenge.</th>\n",
       "      <th>the</th>\n",
       "      <td>0.72</td>\n",
       "    </tr>\n",
       "    <tr>\n",
       "      <th>of</th>\n",
       "      <td>0.50</td>\n",
       "    </tr>\n",
       "    <tr>\n",
       "      <th>a</th>\n",
       "      <td>0.19</td>\n",
       "    </tr>\n",
       "    <tr>\n",
       "      <th>extremes</th>\n",
       "      <td>0.19</td>\n",
       "    </tr>\n",
       "    <tr>\n",
       "      <th>in</th>\n",
       "      <td>0.17</td>\n",
       "    </tr>\n",
       "    <tr>\n",
       "      <th>was</th>\n",
       "      <td>0.16</td>\n",
       "    </tr>\n",
       "    <tr>\n",
       "      <th>and</th>\n",
       "      <td>0.13</td>\n",
       "    </tr>\n",
       "    <tr>\n",
       "      <th>bear</th>\n",
       "      <td>0.12</td>\n",
       "    </tr>\n",
       "    <tr>\n",
       "      <th>claiming</th>\n",
       "      <td>0.12</td>\n",
       "    </tr>\n",
       "    <tr>\n",
       "      <th>diagnosed</th>\n",
       "      <td>0.12</td>\n",
       "    </tr>\n",
       "    <tr>\n",
       "      <th rowspan=\"10\" valign=\"top\">As the population of all of the towns grew, the need for better transportation between them also grew.</th>\n",
       "      <th>the</th>\n",
       "      <td>0.72</td>\n",
       "    </tr>\n",
       "    <tr>\n",
       "      <th>of</th>\n",
       "      <td>0.48</td>\n",
       "    </tr>\n",
       "    <tr>\n",
       "      <th>in</th>\n",
       "      <td>0.19</td>\n",
       "    </tr>\n",
       "    <tr>\n",
       "      <th>extremes</th>\n",
       "      <td>0.15</td>\n",
       "    </tr>\n",
       "    <tr>\n",
       "      <th>a</th>\n",
       "      <td>0.15</td>\n",
       "    </tr>\n",
       "    <tr>\n",
       "      <th>and</th>\n",
       "      <td>0.15</td>\n",
       "    </tr>\n",
       "    <tr>\n",
       "      <th>wctu</th>\n",
       "      <td>0.13</td>\n",
       "    </tr>\n",
       "    <tr>\n",
       "      <th>to</th>\n",
       "      <td>0.13</td>\n",
       "    </tr>\n",
       "    <tr>\n",
       "      <th>was</th>\n",
       "      <td>0.12</td>\n",
       "    </tr>\n",
       "    <tr>\n",
       "      <th>hamlet</th>\n",
       "      <td>0.12</td>\n",
       "    </tr>\n",
       "  </tbody>\n",
       "</table>\n",
       "</div>"
      ],
      "text/plain": [
       "                                                              similarity\n",
       "sentence                                           token                \n",
       "The extremes, which can be fatal to healthy peo... of               0.53\n",
       "                                                   the              0.50\n",
       "                                                   to               0.29\n",
       "                                                   wctu             0.29\n",
       "                                                   a                0.27\n",
       "                                                   extremes         0.27\n",
       "                                                   in               0.21\n",
       "                                                   and              0.18\n",
       "                                                   was              0.17\n",
       "                                                   an               0.14\n",
       "The construction of the line was the subject of... the              0.72\n",
       "                                                   of               0.50\n",
       "                                                   a                0.19\n",
       "                                                   extremes         0.19\n",
       "                                                   in               0.17\n",
       "                                                   was              0.16\n",
       "                                                   and              0.13\n",
       "                                                   bear             0.12\n",
       "                                                   claiming         0.12\n",
       "                                                   diagnosed        0.12\n",
       "As the population of all of the towns grew, the... the              0.72\n",
       "                                                   of               0.48\n",
       "                                                   in               0.19\n",
       "                                                   extremes         0.15\n",
       "                                                   a                0.15\n",
       "                                                   and              0.15\n",
       "                                                   wctu             0.13\n",
       "                                                   to               0.13\n",
       "                                                   was              0.12\n",
       "                                                   hamlet           0.12"
      ]
     },
     "metadata": {},
     "output_type": "display_data"
    }
   ],
   "source": [
    "get_results(out_sentences[:3], \"pooling\", False)"
   ]
  },
  {
   "cell_type": "markdown",
   "id": "a5e8a917",
   "metadata": {},
   "source": [
    "### W/o stop words in inference sentence\n",
    "#### Closest addresses"
   ]
  },
  {
   "cell_type": "code",
   "execution_count": 18,
   "id": "162db6bb",
   "metadata": {
    "scrolled": false
   },
   "outputs": [
    {
     "data": {
      "text/markdown": [
       "<ins>**Sentence:**</ins> As the population of all of the towns grew, the need for better transportation between them also grew."
      ],
      "text/plain": [
       "<IPython.core.display.Markdown object>"
      ]
     },
     "metadata": {},
     "output_type": "display_data"
    },
    {
     "data": {
      "application/vnd.jupyter.widget-view+json": {
       "model_id": "6c769717103e4016b138895a816046bf",
       "version_major": 2,
       "version_minor": 0
      },
      "text/plain": [
       "HBox(children=(Output(), Output(), Output(), Output(), Output(), Output(), Output()))"
      ]
     },
     "metadata": {},
     "output_type": "display_data"
    },
    {
     "data": {
      "text/markdown": [
       "<ins>**Sentence:**</ins> The construction of the line was the subject of a legal challenge."
      ],
      "text/plain": [
       "<IPython.core.display.Markdown object>"
      ]
     },
     "metadata": {},
     "output_type": "display_data"
    },
    {
     "data": {
      "application/vnd.jupyter.widget-view+json": {
       "model_id": "2d99451ef5e149f3821288352acbedd2",
       "version_major": 2,
       "version_minor": 0
      },
      "text/plain": [
       "HBox(children=(Output(), Output(), Output(), Output(), Output(), Output(), Output()))"
      ]
     },
     "metadata": {},
     "output_type": "display_data"
    },
    {
     "data": {
      "text/markdown": [
       "<ins>**Sentence:**</ins> The extremes, which can be fatal to healthy people within six hours, could affect hundreds of millions of people unused to such conditions."
      ],
      "text/plain": [
       "<IPython.core.display.Markdown object>"
      ]
     },
     "metadata": {},
     "output_type": "display_data"
    },
    {
     "data": {
      "application/vnd.jupyter.widget-view+json": {
       "model_id": "5f638635aabb44f99bbbe53ef5db463e",
       "version_major": 2,
       "version_minor": 0
      },
      "text/plain": [
       "HBox(children=(Output(), Output(), Output(), Output(), Output(), Output(), Output()))"
      ]
     },
     "metadata": {},
     "output_type": "display_data"
    }
   ],
   "source": [
    "get_results(out_sentences[:3], \"top_k\", True)"
   ]
  },
  {
   "cell_type": "markdown",
   "id": "f896fb7c",
   "metadata": {},
   "source": [
    "#### Pooled address space"
   ]
  },
  {
   "cell_type": "code",
   "execution_count": 19,
   "id": "8722e18d",
   "metadata": {},
   "outputs": [
    {
     "data": {
      "text/html": [
       "<div>\n",
       "<style scoped>\n",
       "    .dataframe tbody tr th:only-of-type {\n",
       "        vertical-align: middle;\n",
       "    }\n",
       "\n",
       "    .dataframe tbody tr th {\n",
       "        vertical-align: top;\n",
       "    }\n",
       "\n",
       "    .dataframe thead th {\n",
       "        text-align: right;\n",
       "    }\n",
       "</style>\n",
       "<table border=\"1\" class=\"dataframe\">\n",
       "  <thead>\n",
       "    <tr style=\"text-align: right;\">\n",
       "      <th></th>\n",
       "      <th></th>\n",
       "      <th>similarity</th>\n",
       "    </tr>\n",
       "    <tr>\n",
       "      <th>sentence</th>\n",
       "      <th>token</th>\n",
       "      <th></th>\n",
       "    </tr>\n",
       "  </thead>\n",
       "  <tbody>\n",
       "    <tr>\n",
       "      <th rowspan=\"10\" valign=\"top\">The extremes, which can be fatal to healthy people within six hours, could affect hundreds of millions of people unused to such conditions.</th>\n",
       "      <th>the</th>\n",
       "      <td>0.47</td>\n",
       "    </tr>\n",
       "    <tr>\n",
       "      <th>of</th>\n",
       "      <td>0.42</td>\n",
       "    </tr>\n",
       "    <tr>\n",
       "      <th>a</th>\n",
       "      <td>0.33</td>\n",
       "    </tr>\n",
       "    <tr>\n",
       "      <th>extremes</th>\n",
       "      <td>0.33</td>\n",
       "    </tr>\n",
       "    <tr>\n",
       "      <th>in</th>\n",
       "      <td>0.26</td>\n",
       "    </tr>\n",
       "    <tr>\n",
       "      <th>to</th>\n",
       "      <td>0.21</td>\n",
       "    </tr>\n",
       "    <tr>\n",
       "      <th>wctu</th>\n",
       "      <td>0.21</td>\n",
       "    </tr>\n",
       "    <tr>\n",
       "      <th>and</th>\n",
       "      <td>0.20</td>\n",
       "    </tr>\n",
       "    <tr>\n",
       "      <th>was</th>\n",
       "      <td>0.20</td>\n",
       "    </tr>\n",
       "    <tr>\n",
       "      <th>an</th>\n",
       "      <td>0.16</td>\n",
       "    </tr>\n",
       "    <tr>\n",
       "      <th rowspan=\"10\" valign=\"top\">The construction of the line was the subject of a legal challenge.</th>\n",
       "      <th>the</th>\n",
       "      <td>0.49</td>\n",
       "    </tr>\n",
       "    <tr>\n",
       "      <th>of</th>\n",
       "      <td>0.42</td>\n",
       "    </tr>\n",
       "    <tr>\n",
       "      <th>in</th>\n",
       "      <td>0.27</td>\n",
       "    </tr>\n",
       "    <tr>\n",
       "      <th>wctu</th>\n",
       "      <td>0.24</td>\n",
       "    </tr>\n",
       "    <tr>\n",
       "      <th>to</th>\n",
       "      <td>0.24</td>\n",
       "    </tr>\n",
       "    <tr>\n",
       "      <th>extremes</th>\n",
       "      <td>0.22</td>\n",
       "    </tr>\n",
       "    <tr>\n",
       "      <th>a</th>\n",
       "      <td>0.22</td>\n",
       "    </tr>\n",
       "    <tr>\n",
       "      <th>and</th>\n",
       "      <td>0.20</td>\n",
       "    </tr>\n",
       "    <tr>\n",
       "      <th>was</th>\n",
       "      <td>0.20</td>\n",
       "    </tr>\n",
       "    <tr>\n",
       "      <th>is</th>\n",
       "      <td>0.17</td>\n",
       "    </tr>\n",
       "    <tr>\n",
       "      <th rowspan=\"10\" valign=\"top\">As the population of all of the towns grew, the need for better transportation between them also grew.</th>\n",
       "      <th>the</th>\n",
       "      <td>0.52</td>\n",
       "    </tr>\n",
       "    <tr>\n",
       "      <th>of</th>\n",
       "      <td>0.40</td>\n",
       "    </tr>\n",
       "    <tr>\n",
       "      <th>in</th>\n",
       "      <td>0.28</td>\n",
       "    </tr>\n",
       "    <tr>\n",
       "      <th>wctu</th>\n",
       "      <td>0.25</td>\n",
       "    </tr>\n",
       "    <tr>\n",
       "      <th>to</th>\n",
       "      <td>0.25</td>\n",
       "    </tr>\n",
       "    <tr>\n",
       "      <th>extremes</th>\n",
       "      <td>0.22</td>\n",
       "    </tr>\n",
       "    <tr>\n",
       "      <th>a</th>\n",
       "      <td>0.22</td>\n",
       "    </tr>\n",
       "    <tr>\n",
       "      <th>and</th>\n",
       "      <td>0.21</td>\n",
       "    </tr>\n",
       "    <tr>\n",
       "      <th>was</th>\n",
       "      <td>0.18</td>\n",
       "    </tr>\n",
       "    <tr>\n",
       "      <th>is</th>\n",
       "      <td>0.15</td>\n",
       "    </tr>\n",
       "  </tbody>\n",
       "</table>\n",
       "</div>"
      ],
      "text/plain": [
       "                                                             similarity\n",
       "sentence                                           token               \n",
       "The extremes, which can be fatal to healthy peo... the             0.47\n",
       "                                                   of              0.42\n",
       "                                                   a               0.33\n",
       "                                                   extremes        0.33\n",
       "                                                   in              0.26\n",
       "                                                   to              0.21\n",
       "                                                   wctu            0.21\n",
       "                                                   and             0.20\n",
       "                                                   was             0.20\n",
       "                                                   an              0.16\n",
       "The construction of the line was the subject of... the             0.49\n",
       "                                                   of              0.42\n",
       "                                                   in              0.27\n",
       "                                                   wctu            0.24\n",
       "                                                   to              0.24\n",
       "                                                   extremes        0.22\n",
       "                                                   a               0.22\n",
       "                                                   and             0.20\n",
       "                                                   was             0.20\n",
       "                                                   is              0.17\n",
       "As the population of all of the towns grew, the... the             0.52\n",
       "                                                   of              0.40\n",
       "                                                   in              0.28\n",
       "                                                   wctu            0.25\n",
       "                                                   to              0.25\n",
       "                                                   extremes        0.22\n",
       "                                                   a               0.22\n",
       "                                                   and             0.21\n",
       "                                                   was             0.18\n",
       "                                                   is              0.15"
      ]
     },
     "metadata": {},
     "output_type": "display_data"
    }
   ],
   "source": [
    "get_results(out_sentences[:3], \"pooling\", True)"
   ]
  },
  {
   "cell_type": "code",
   "execution_count": null,
   "id": "20d0b5bc",
   "metadata": {},
   "outputs": [],
   "source": []
  },
  {
   "cell_type": "code",
   "execution_count": 20,
   "id": "aa511af0",
   "metadata": {
    "scrolled": false
   },
   "outputs": [],
   "source": [
    "# # Set retrieve mode.\n",
    "# retrieve_mode = \"top_k\"\n",
    "\n",
    "# # Get table with token similarities for each \"out-of-train\" sentence.\n",
    "# retrieved_contents = inference.infer(\n",
    "#     memory.address_size,\n",
    "#     cleanup,\n",
    "#     memory,\n",
    "#     sentences,\n",
    "#     retrieve_mode=retrieve_mode,\n",
    "#     remove_stopwords=True,\n",
    "#     k=7, \n",
    "# )\n",
    "\n",
    "\n",
    "# sims_df = pd.DataFrame(columns=['sentence', 'token', 'similarity']) \n",
    "\n",
    "# for s, addresses in zip(sentences, retrieved_contents):\n",
    "#     display(s)\n",
    "#     out_tables = []\n",
    "#     for a in addresses:\n",
    "#         address_sims_df = inference.get_similarities_to_atomic_set(\n",
    "#             a, cleanup, k=11)\n",
    "#         out = widgets.Output()\n",
    "#         with out:\n",
    "#             display(address_sims_df)\n",
    "#         out_tables.append(out)\n",
    "#     display(widgets.HBox(out_tables))"
   ]
  },
  {
   "cell_type": "code",
   "execution_count": 21,
   "id": "1548eab4",
   "metadata": {
    "scrolled": false
   },
   "outputs": [],
   "source": [
    "# retrieve_mode = \"pooling\"\n",
    "\n",
    "# # Get table with token similarities for each \"out-of-train\" sentence.\n",
    "# retrieved_contents = inference.infer(\n",
    "#     memory.address_size,\n",
    "#     cleanup,\n",
    "#     memory,\n",
    "#     sentences,\n",
    "#     retrieve_mode=retrieve_mode,\n",
    "#     remove_stopwords=True,\n",
    "#     k=7, \n",
    "# )\n",
    "\n",
    "# sims_df = pd.DataFrame(columns=['sentence', 'token', 'similarity']) \n",
    "      \n",
    "# for s, c in zip(sentences, retrieved_contents):\n",
    "#     sentence_sims_df = inference.get_similarities_to_atomic_set(\n",
    "#         c, cleanup)\n",
    "#     sentence_sims_df['sentence'] = [s] * len(sentence_sims_df)\n",
    "#     sims_df = pd.concat([sims_df, sentence_sims_df])\n",
    "\n",
    "# sims_df = sims_df.sort_values(['sentence', 'similarity'], ascending=False) \\\n",
    "#                  .set_index(['sentence', 'token'])\n",
    "\n",
    "# display(sims_df)"
   ]
  },
  {
   "cell_type": "code",
   "execution_count": null,
   "id": "d121179d",
   "metadata": {},
   "outputs": [],
   "source": []
  },
  {
   "cell_type": "code",
   "execution_count": null,
   "id": "e44e4bbd",
   "metadata": {},
   "outputs": [],
   "source": []
  },
  {
   "cell_type": "code",
   "execution_count": null,
   "id": "8407ed2e",
   "metadata": {},
   "outputs": [],
   "source": []
  }
 ],
 "metadata": {
  "kernelspec": {
   "display_name": "Python 3 (ipykernel)",
   "language": "python",
   "name": "python3"
  },
  "language_info": {
   "codemirror_mode": {
    "name": "ipython",
    "version": 3
   },
   "file_extension": ".py",
   "mimetype": "text/x-python",
   "name": "python",
   "nbconvert_exporter": "python",
   "pygments_lexer": "ipython3",
   "version": "3.9.17"
  }
 },
 "nbformat": 4,
 "nbformat_minor": 5
}
