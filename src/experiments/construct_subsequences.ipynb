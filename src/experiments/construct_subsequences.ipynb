{
 "cells": [
  {
   "cell_type": "code",
   "execution_count": 1,
   "id": "a2ea47ab",
   "metadata": {},
   "outputs": [],
   "source": [
    "import sys\n",
    "import os\n",
    "\n",
    "# Get the absolute path of the parent directory.\n",
    "parent_dir = os.path.abspath(os.path.join(os.path.dirname(\"__file__\"), \"..\"))\n",
    "\n",
    "# Add the parent directory to the system path to be able to import modules from 'lib.'\n",
    "sys.path.append(parent_dir)"
   ]
  },
  {
   "cell_type": "code",
   "execution_count": 2,
   "id": "b7b779e5",
   "metadata": {},
   "outputs": [],
   "source": [
    "%%capture\n",
    "import datasets\n",
    "\n",
    "import ipywidgets as widgets\n",
    "from IPython.display import HTML, Markdown as md\n",
    "import itertools\n",
    "\n",
    "from lib.memory import DSDM\n",
    "from lib.utils import cleanup, configs, inference, learning, preprocess, utils \n",
    "\n",
    "import math\n",
    "import matplotlib\n",
    "import matplotlib.pyplot as plt\n",
    "import networkx as nx\n",
    "from nltk.corpus import stopwords\n",
    "import numpy as np\n",
    "import random\n",
    "\n",
    "import pandas as pd\n",
    "import pathlib\n",
    "import pickle\n",
    "\n",
    "import string\n",
    "import seaborn as sns\n",
    "\n",
    "from transformers import AutoTokenizer, AutoModel\n",
    "\n",
    "import torch\n",
    "import torchhd as thd\n",
    "from torch.autograd import Variable\n",
    "import torch.nn as nn\n",
    "import torch.nn.functional as F \n",
    "\n",
    "from tqdm import tqdm\n",
    "\n",
    "### Package options ###\n",
    "torch.set_printoptions(threshold=10_000)"
   ]
  },
  {
   "cell_type": "code",
   "execution_count": 3,
   "id": "823ecf96",
   "metadata": {},
   "outputs": [],
   "source": [
    "### Utils ###\n",
    "def average_out_and_remove_rows(t: torch.tensor, averages_idx, remove_idx):\n",
    "    for average_idx in averages_idx:  # The nested lists can have different dimensions.\n",
    "        # Replace the attention scores of the first token with the average of the token attention scores.\n",
    "        t[min(average_idx)] = torch.mean(t[average_idx], dim=0, keepdim=True)\n",
    "    return t[~remove_idx]\n",
    "\n",
    "\n",
    "def preprocess_attention_scores(attention_scores, averages_idx, remove_idx):\n",
    "    attention_scores = average_out_and_remove_rows(attention_scores, averages_idx, remove_idx)\n",
    "    attention_scores = attention_scores.transpose(0, 1)\n",
    "    attention_scores = average_out_and_remove_rows(attention_scores, averages_idx, remove_idx)\n",
    "    return attention_scores.transpose(0, 1)\n",
    "        \n",
    "    \n",
    "\n",
    "def backward_pass(G, current_node, left_edge, right_edge, sequence, mean):\n",
    "    in_nodes = np.array([edge[0] for edge in list(G.in_edges(current_node))])\n",
    "    in_nodes = in_nodes[(in_nodes > left_edge) & (in_nodes < current_node)]\n",
    "    for node in in_nodes:\n",
    "        sequence[node] = 1\n",
    "        sequences.append(sequence)\n",
    "        mean += G[node][current_node]['weight']\n",
    "        means.append(round(mean / (sum(sequence) - 1), 2))\n",
    "        backward_pass(G, node, left_edge, node, sequence.copy(), mean)\n",
    "        forward_pass(G, node, left_edge, current_node, sequence.copy(), mean)\n",
    "        \n",
    "    return\n",
    "    \n",
    "    \n",
    "def forward_pass(G, current_node, left_edge, right_edge, sequence, mean):\n",
    "    out_nodes = np.array([edge[1] for edge in list(G.out_edges(current_node))])\n",
    "    out_nodes = out_nodes[(out_nodes > current_node) & (out_nodes < right_edge)]\n",
    "    for node in out_nodes:\n",
    "        sequence[node] = 1\n",
    "        mean += G[current_node][node]['weight']\n",
    "        sequences.append(sequence)\n",
    "        means.append(round(mean / (sum(sequence) - 1), 2))\n",
    "        backward_pass(G, node, current_node, node, sequence.copy(), mean)\n",
    "        forward_pass(G, node, node, right_edge, sequence.copy(), mean)\n",
    "            \n",
    "    return\n",
    "    \n",
    "\n",
    "def construct_sequences(G: nx.DiGraph, n_tokens):\n",
    "    for node in G.nodes():\n",
    "        sequence = np.zeros(n_tokens)\n",
    "        mean = 0\n",
    "        sequence[node] = 1\n",
    "        #sequences.append(sequence) # Do not allow for 1-token sequences.\n",
    "        forward_pass(G, node, node, n_tokens, sequence.copy(), mean)"
   ]
  },
  {
   "cell_type": "code",
   "execution_count": 4,
   "id": "ec7b553a",
   "metadata": {},
   "outputs": [],
   "source": [
    "%%capture\n",
    "# Load Wikipedia dataset.\n",
    "# TODO: Split between server and local.\n",
    "#wiki_dataset = datasets.load_dataset(\"wikipedia\", \"20220301.en\")['train']\n",
    "wiki_dataset = datasets.load_dataset(\n",
    "    \"wikipedia\",\n",
    "    \"20220301.en\",\n",
    "    cache_dir=\"/nfs/data/projects/daniela\")['train']"
   ]
  },
  {
   "cell_type": "code",
   "execution_count": 5,
   "id": "2338f928",
   "metadata": {},
   "outputs": [],
   "source": [
    "model_name = \"bert-base-uncased\"  # Has 12 layers\n",
    "tokenizer = AutoTokenizer.from_pretrained(model_name)\n",
    "model = AutoModel.from_pretrained(model_name)\n",
    "\n",
    "MAXIMUM_SEQUENCE_LENGTH = 512"
   ]
  },
  {
   "cell_type": "code",
   "execution_count": 6,
   "id": "5bf55859",
   "metadata": {
    "tags": [
     "parameters"
    ]
   },
   "outputs": [],
   "source": [
    "as_threshold = 0.5\n",
    "n_sequences = 3\n",
    "chunk_score_threshold = None\n",
    "remove_stopwords = True"
   ]
  },
  {
   "cell_type": "code",
   "execution_count": 7,
   "id": "02f51d05",
   "metadata": {
    "scrolled": true
   },
   "outputs": [],
   "source": [
    "in_sentences = [\n",
    "    \"\"\"Blaine was reared in a Prohibition home, and while still a young girl, she became a very active participant at temperance meetings, where she won great favor for her songs and recitations.\"\"\",\n",
    "    \"\"\"In 1910, she was elected to the position of organizer and lecturer of the National WCTU.\"\"\",\n",
    "    \"\"\"Another feature of her work was the organization of temperance mass-meetings of Sunday-school children, usually preceded by a formal parade.\"\"\",\n",
    "    \"\"\"With all other games played, a victory over Everton had put United top of the group on nine points.\"\"\",\n",
    "    \"\"\"The 2022 FA Women's League Cup Final was the 11th final of the FA Women's League Cup, England's secondary cup competition for women's football teams and its primary league cup tournament.\"\"\",\n",
    "    \"\"\"In 2020 Mico's single 'igare' awarded as the best song of the summer in Kiss Summer Awards.\"\"\",\n",
    "    \"\"\"She collected the speech and words of Dublin city and donated her collection to the Department of Irish Folklore at University College, Dublin.\"\"\",\n",
    "    \"\"\"Traditional palyanytsya was baked from yeast dough.\"\"\",\n",
    "    \"\"\"First, hops were boiled in a pot, which was then poured into a makitra, to which sifted wheat flour was added.\"\"\",\n",
    "    \"\"\"Jonathan Holland of ScreenDaily deemed the film to be \"superbly directed by Palomero, who seems to have a special gift for seeing the world through children's eyes.\" \"\"\"   \n",
    "]"
   ]
  },
  {
   "cell_type": "code",
   "execution_count": 8,
   "id": "019070c2",
   "metadata": {},
   "outputs": [],
   "source": [
    "out_sentences = [\n",
    "    \"\"\"As the population of all of the towns grew, the need for better transportation between them also grew.\"\"\",\n",
    "    \"\"\"The construction of the line was the subject of a legal challenge.\"\"\",\n",
    "    \"\"\"The extremes, which can be fatal to healthy people within six hours, could affect hundreds of millions of people unused to such conditions.\"\"\",\n",
    "    \"\"\"Dangerous heat stress events will spread rapidly across the world as global heating continues.\"\"\",\n",
    "    \"\"\"Whether or not history will determine that we are living in an ever more divided culture, it certainly feels that way.\"\"\"\n",
    "]"
   ]
  },
  {
   "cell_type": "code",
   "execution_count": 9,
   "id": "91f71ede",
   "metadata": {},
   "outputs": [
    {
     "data": {
      "text/markdown": [
       "# Constructed subsequnces w/o stop words"
      ],
      "text/plain": [
       "<IPython.core.display.Markdown object>"
      ]
     },
     "metadata": {},
     "output_type": "display_data"
    }
   ],
   "source": [
    "display(md(f\"# Constructed subsequnces {'w/o' if remove_stopwords else 'w/'} stop words\"))"
   ]
  },
  {
   "cell_type": "code",
   "execution_count": 10,
   "id": "88a04d6f",
   "metadata": {},
   "outputs": [],
   "source": [
    "sentences = in_sentences"
   ]
  },
  {
   "cell_type": "code",
   "execution_count": 11,
   "id": "34d40771",
   "metadata": {
    "scrolled": false
   },
   "outputs": [
    {
     "data": {
      "text/markdown": [
       "Sentence: _Blaine was reared in a Prohibition home, and while still a young girl, she became a very active participant at temperance meetings, where she won great favor for her songs and recitations._"
      ],
      "text/plain": [
       "<IPython.core.display.Markdown object>"
      ]
     },
     "metadata": {},
     "output_type": "display_data"
    },
    {
     "data": {
      "text/markdown": [
       "**Head:** 10"
      ],
      "text/plain": [
       "<IPython.core.display.Markdown object>"
      ]
     },
     "metadata": {},
     "output_type": "display_data"
    },
    {
     "data": {
      "text/html": [
       "<div>\n",
       "<style scoped>\n",
       "    .dataframe tbody tr th:only-of-type {\n",
       "        vertical-align: middle;\n",
       "    }\n",
       "\n",
       "    .dataframe tbody tr th {\n",
       "        vertical-align: top;\n",
       "    }\n",
       "\n",
       "    .dataframe thead th {\n",
       "        text-align: right;\n",
       "    }\n",
       "</style>\n",
       "<table border=\"1\" class=\"dataframe\">\n",
       "  <thead>\n",
       "    <tr style=\"text-align: right;\">\n",
       "      <th></th>\n",
       "      <th>chunk_score</th>\n",
       "      <th>len</th>\n",
       "      <th>sequence</th>\n",
       "    </tr>\n",
       "  </thead>\n",
       "  <tbody>\n",
       "    <tr>\n",
       "      <th>0</th>\n",
       "      <td>0.96</td>\n",
       "      <td>2.0</td>\n",
       "      <td>[young, girl]</td>\n",
       "    </tr>\n",
       "    <tr>\n",
       "      <th>1</th>\n",
       "      <td>0.81</td>\n",
       "      <td>2.0</td>\n",
       "      <td>[active, participant]</td>\n",
       "    </tr>\n",
       "    <tr>\n",
       "      <th>2</th>\n",
       "      <td>0.77</td>\n",
       "      <td>2.0</td>\n",
       "      <td>[temperance, meetings]</td>\n",
       "    </tr>\n",
       "    <tr>\n",
       "      <th>3</th>\n",
       "      <td>0.52</td>\n",
       "      <td>2.0</td>\n",
       "      <td>[great, favor]</td>\n",
       "    </tr>\n",
       "  </tbody>\n",
       "</table>\n",
       "</div>"
      ],
      "text/plain": [
       "   chunk_score  len                sequence\n",
       "0         0.96  2.0           [young, girl]\n",
       "1         0.81  2.0   [active, participant]\n",
       "2         0.77  2.0  [temperance, meetings]\n",
       "3         0.52  2.0          [great, favor]"
      ]
     },
     "metadata": {},
     "output_type": "display_data"
    },
    {
     "data": {
      "text/markdown": [
       "Sentence: _In 1910, she was elected to the position of organizer and lecturer of the National WCTU._"
      ],
      "text/plain": [
       "<IPython.core.display.Markdown object>"
      ]
     },
     "metadata": {},
     "output_type": "display_data"
    },
    {
     "data": {
      "text/markdown": [
       "**Head:** 11"
      ],
      "text/plain": [
       "<IPython.core.display.Markdown object>"
      ]
     },
     "metadata": {},
     "output_type": "display_data"
    },
    {
     "data": {
      "text/html": [
       "<div>\n",
       "<style scoped>\n",
       "    .dataframe tbody tr th:only-of-type {\n",
       "        vertical-align: middle;\n",
       "    }\n",
       "\n",
       "    .dataframe tbody tr th {\n",
       "        vertical-align: top;\n",
       "    }\n",
       "\n",
       "    .dataframe thead th {\n",
       "        text-align: right;\n",
       "    }\n",
       "</style>\n",
       "<table border=\"1\" class=\"dataframe\">\n",
       "  <thead>\n",
       "    <tr style=\"text-align: right;\">\n",
       "      <th></th>\n",
       "      <th>chunk_score</th>\n",
       "      <th>len</th>\n",
       "      <th>sequence</th>\n",
       "    </tr>\n",
       "  </thead>\n",
       "  <tbody>\n",
       "    <tr>\n",
       "      <th>0</th>\n",
       "      <td>0.52</td>\n",
       "      <td>2.0</td>\n",
       "      <td>[elected, position]</td>\n",
       "    </tr>\n",
       "  </tbody>\n",
       "</table>\n",
       "</div>"
      ],
      "text/plain": [
       "   chunk_score  len             sequence\n",
       "0         0.52  2.0  [elected, position]"
      ]
     },
     "metadata": {},
     "output_type": "display_data"
    },
    {
     "data": {
      "text/markdown": [
       "Sentence: _Another feature of her work was the organization of temperance mass-meetings of Sunday-school children, usually preceded by a formal parade._"
      ],
      "text/plain": [
       "<IPython.core.display.Markdown object>"
      ]
     },
     "metadata": {},
     "output_type": "display_data"
    },
    {
     "data": {
      "text/markdown": [
       "**Head:** 10"
      ],
      "text/plain": [
       "<IPython.core.display.Markdown object>"
      ]
     },
     "metadata": {},
     "output_type": "display_data"
    },
    {
     "data": {
      "text/html": [
       "<div>\n",
       "<style scoped>\n",
       "    .dataframe tbody tr th:only-of-type {\n",
       "        vertical-align: middle;\n",
       "    }\n",
       "\n",
       "    .dataframe tbody tr th {\n",
       "        vertical-align: top;\n",
       "    }\n",
       "\n",
       "    .dataframe thead th {\n",
       "        text-align: right;\n",
       "    }\n",
       "</style>\n",
       "<table border=\"1\" class=\"dataframe\">\n",
       "  <thead>\n",
       "    <tr style=\"text-align: right;\">\n",
       "      <th></th>\n",
       "      <th>chunk_score</th>\n",
       "      <th>len</th>\n",
       "      <th>sequence</th>\n",
       "    </tr>\n",
       "  </thead>\n",
       "  <tbody>\n",
       "    <tr>\n",
       "      <th>0</th>\n",
       "      <td>0.84</td>\n",
       "      <td>2.0</td>\n",
       "      <td>[school, children]</td>\n",
       "    </tr>\n",
       "    <tr>\n",
       "      <th>1</th>\n",
       "      <td>0.74</td>\n",
       "      <td>3.0</td>\n",
       "      <td>[sunday, school, children]</td>\n",
       "    </tr>\n",
       "    <tr>\n",
       "      <th>2</th>\n",
       "      <td>0.70</td>\n",
       "      <td>2.0</td>\n",
       "      <td>[another, feature]</td>\n",
       "    </tr>\n",
       "    <tr>\n",
       "      <th>3</th>\n",
       "      <td>0.69</td>\n",
       "      <td>2.0</td>\n",
       "      <td>[usually, preceded]</td>\n",
       "    </tr>\n",
       "    <tr>\n",
       "      <th>4</th>\n",
       "      <td>0.65</td>\n",
       "      <td>2.0</td>\n",
       "      <td>[sunday, school]</td>\n",
       "    </tr>\n",
       "    <tr>\n",
       "      <th>5</th>\n",
       "      <td>0.52</td>\n",
       "      <td>2.0</td>\n",
       "      <td>[formal, parade]</td>\n",
       "    </tr>\n",
       "  </tbody>\n",
       "</table>\n",
       "</div>"
      ],
      "text/plain": [
       "   chunk_score  len                    sequence\n",
       "0         0.84  2.0          [school, children]\n",
       "1         0.74  3.0  [sunday, school, children]\n",
       "2         0.70  2.0          [another, feature]\n",
       "3         0.69  2.0         [usually, preceded]\n",
       "4         0.65  2.0            [sunday, school]\n",
       "5         0.52  2.0            [formal, parade]"
      ]
     },
     "metadata": {},
     "output_type": "display_data"
    },
    {
     "data": {
      "text/markdown": [
       "**Head:** 11"
      ],
      "text/plain": [
       "<IPython.core.display.Markdown object>"
      ]
     },
     "metadata": {},
     "output_type": "display_data"
    },
    {
     "data": {
      "text/html": [
       "<div>\n",
       "<style scoped>\n",
       "    .dataframe tbody tr th:only-of-type {\n",
       "        vertical-align: middle;\n",
       "    }\n",
       "\n",
       "    .dataframe tbody tr th {\n",
       "        vertical-align: top;\n",
       "    }\n",
       "\n",
       "    .dataframe thead th {\n",
       "        text-align: right;\n",
       "    }\n",
       "</style>\n",
       "<table border=\"1\" class=\"dataframe\">\n",
       "  <thead>\n",
       "    <tr style=\"text-align: right;\">\n",
       "      <th></th>\n",
       "      <th>chunk_score</th>\n",
       "      <th>len</th>\n",
       "      <th>sequence</th>\n",
       "    </tr>\n",
       "  </thead>\n",
       "  <tbody>\n",
       "    <tr>\n",
       "      <th>0</th>\n",
       "      <td>0.76</td>\n",
       "      <td>2.0</td>\n",
       "      <td>[school, children]</td>\n",
       "    </tr>\n",
       "  </tbody>\n",
       "</table>\n",
       "</div>"
      ],
      "text/plain": [
       "   chunk_score  len            sequence\n",
       "0         0.76  2.0  [school, children]"
      ]
     },
     "metadata": {},
     "output_type": "display_data"
    },
    {
     "data": {
      "text/markdown": [
       "Sentence: _With all other games played, a victory over Everton had put United top of the group on nine points._"
      ],
      "text/plain": [
       "<IPython.core.display.Markdown object>"
      ]
     },
     "metadata": {},
     "output_type": "display_data"
    },
    {
     "data": {
      "text/markdown": [
       "**Head:** 10"
      ],
      "text/plain": [
       "<IPython.core.display.Markdown object>"
      ]
     },
     "metadata": {},
     "output_type": "display_data"
    },
    {
     "data": {
      "text/html": [
       "<div>\n",
       "<style scoped>\n",
       "    .dataframe tbody tr th:only-of-type {\n",
       "        vertical-align: middle;\n",
       "    }\n",
       "\n",
       "    .dataframe tbody tr th {\n",
       "        vertical-align: top;\n",
       "    }\n",
       "\n",
       "    .dataframe thead th {\n",
       "        text-align: right;\n",
       "    }\n",
       "</style>\n",
       "<table border=\"1\" class=\"dataframe\">\n",
       "  <thead>\n",
       "    <tr style=\"text-align: right;\">\n",
       "      <th></th>\n",
       "      <th>chunk_score</th>\n",
       "      <th>len</th>\n",
       "      <th>sequence</th>\n",
       "    </tr>\n",
       "  </thead>\n",
       "  <tbody>\n",
       "    <tr>\n",
       "      <th>0</th>\n",
       "      <td>0.72</td>\n",
       "      <td>2.0</td>\n",
       "      <td>[nine, points]</td>\n",
       "    </tr>\n",
       "    <tr>\n",
       "      <th>1</th>\n",
       "      <td>0.52</td>\n",
       "      <td>2.0</td>\n",
       "      <td>[games, played]</td>\n",
       "    </tr>\n",
       "  </tbody>\n",
       "</table>\n",
       "</div>"
      ],
      "text/plain": [
       "   chunk_score  len         sequence\n",
       "0         0.72  2.0   [nine, points]\n",
       "1         0.52  2.0  [games, played]"
      ]
     },
     "metadata": {},
     "output_type": "display_data"
    },
    {
     "data": {
      "text/markdown": [
       "Sentence: _The 2022 FA Women's League Cup Final was the 11th final of the FA Women's League Cup, England's secondary cup competition for women's football teams and its primary league cup tournament._"
      ],
      "text/plain": [
       "<IPython.core.display.Markdown object>"
      ]
     },
     "metadata": {},
     "output_type": "display_data"
    },
    {
     "data": {
      "text/markdown": [
       "**Head:** 10"
      ],
      "text/plain": [
       "<IPython.core.display.Markdown object>"
      ]
     },
     "metadata": {},
     "output_type": "display_data"
    },
    {
     "data": {
      "text/html": [
       "<div>\n",
       "<style scoped>\n",
       "    .dataframe tbody tr th:only-of-type {\n",
       "        vertical-align: middle;\n",
       "    }\n",
       "\n",
       "    .dataframe tbody tr th {\n",
       "        vertical-align: top;\n",
       "    }\n",
       "\n",
       "    .dataframe thead th {\n",
       "        text-align: right;\n",
       "    }\n",
       "</style>\n",
       "<table border=\"1\" class=\"dataframe\">\n",
       "  <thead>\n",
       "    <tr style=\"text-align: right;\">\n",
       "      <th></th>\n",
       "      <th>chunk_score</th>\n",
       "      <th>len</th>\n",
       "      <th>sequence</th>\n",
       "    </tr>\n",
       "  </thead>\n",
       "  <tbody>\n",
       "    <tr>\n",
       "      <th>0</th>\n",
       "      <td>0.84</td>\n",
       "      <td>2.0</td>\n",
       "      <td>[league, cup]</td>\n",
       "    </tr>\n",
       "    <tr>\n",
       "      <th>1</th>\n",
       "      <td>0.83</td>\n",
       "      <td>2.0</td>\n",
       "      <td>[primary, league]</td>\n",
       "    </tr>\n",
       "    <tr>\n",
       "      <th>2</th>\n",
       "      <td>0.78</td>\n",
       "      <td>3.0</td>\n",
       "      <td>[primary, league, cup]</td>\n",
       "    </tr>\n",
       "    <tr>\n",
       "      <th>3</th>\n",
       "      <td>0.73</td>\n",
       "      <td>2.0</td>\n",
       "      <td>[league, cup]</td>\n",
       "    </tr>\n",
       "    <tr>\n",
       "      <th>4</th>\n",
       "      <td>0.73</td>\n",
       "      <td>2.0</td>\n",
       "      <td>[league, cup]</td>\n",
       "    </tr>\n",
       "    <tr>\n",
       "      <th>5</th>\n",
       "      <td>0.70</td>\n",
       "      <td>2.0</td>\n",
       "      <td>[fa, women]</td>\n",
       "    </tr>\n",
       "    <tr>\n",
       "      <th>6</th>\n",
       "      <td>0.67</td>\n",
       "      <td>2.0</td>\n",
       "      <td>[fa, women]</td>\n",
       "    </tr>\n",
       "    <tr>\n",
       "      <th>7</th>\n",
       "      <td>0.66</td>\n",
       "      <td>2.0</td>\n",
       "      <td>[cup, competition]</td>\n",
       "    </tr>\n",
       "    <tr>\n",
       "      <th>8</th>\n",
       "      <td>0.66</td>\n",
       "      <td>2.0</td>\n",
       "      <td>[football, teams]</td>\n",
       "    </tr>\n",
       "    <tr>\n",
       "      <th>9</th>\n",
       "      <td>0.61</td>\n",
       "      <td>2.0</td>\n",
       "      <td>[11th, final]</td>\n",
       "    </tr>\n",
       "  </tbody>\n",
       "</table>\n",
       "</div>"
      ],
      "text/plain": [
       "   chunk_score  len                sequence\n",
       "0         0.84  2.0           [league, cup]\n",
       "1         0.83  2.0       [primary, league]\n",
       "2         0.78  3.0  [primary, league, cup]\n",
       "3         0.73  2.0           [league, cup]\n",
       "4         0.73  2.0           [league, cup]\n",
       "5         0.70  2.0             [fa, women]\n",
       "6         0.67  2.0             [fa, women]\n",
       "7         0.66  2.0      [cup, competition]\n",
       "8         0.66  2.0       [football, teams]\n",
       "9         0.61  2.0           [11th, final]"
      ]
     },
     "metadata": {},
     "output_type": "display_data"
    },
    {
     "data": {
      "text/markdown": [
       "Sentence: _In 2020 Mico's single 'igare' awarded as the best song of the summer in Kiss Summer Awards._"
      ],
      "text/plain": [
       "<IPython.core.display.Markdown object>"
      ]
     },
     "metadata": {},
     "output_type": "display_data"
    },
    {
     "data": {
      "text/markdown": [
       "**Head:** 1"
      ],
      "text/plain": [
       "<IPython.core.display.Markdown object>"
      ]
     },
     "metadata": {},
     "output_type": "display_data"
    },
    {
     "data": {
      "text/html": [
       "<div>\n",
       "<style scoped>\n",
       "    .dataframe tbody tr th:only-of-type {\n",
       "        vertical-align: middle;\n",
       "    }\n",
       "\n",
       "    .dataframe tbody tr th {\n",
       "        vertical-align: top;\n",
       "    }\n",
       "\n",
       "    .dataframe thead th {\n",
       "        text-align: right;\n",
       "    }\n",
       "</style>\n",
       "<table border=\"1\" class=\"dataframe\">\n",
       "  <thead>\n",
       "    <tr style=\"text-align: right;\">\n",
       "      <th></th>\n",
       "      <th>chunk_score</th>\n",
       "      <th>len</th>\n",
       "      <th>sequence</th>\n",
       "    </tr>\n",
       "  </thead>\n",
       "  <tbody>\n",
       "    <tr>\n",
       "      <th>0</th>\n",
       "      <td>0.64</td>\n",
       "      <td>2.0</td>\n",
       "      <td>[single, song]</td>\n",
       "    </tr>\n",
       "  </tbody>\n",
       "</table>\n",
       "</div>"
      ],
      "text/plain": [
       "   chunk_score  len        sequence\n",
       "0         0.64  2.0  [single, song]"
      ]
     },
     "metadata": {},
     "output_type": "display_data"
    },
    {
     "data": {
      "text/markdown": [
       "**Head:** 8"
      ],
      "text/plain": [
       "<IPython.core.display.Markdown object>"
      ]
     },
     "metadata": {},
     "output_type": "display_data"
    },
    {
     "data": {
      "text/html": [
       "<div>\n",
       "<style scoped>\n",
       "    .dataframe tbody tr th:only-of-type {\n",
       "        vertical-align: middle;\n",
       "    }\n",
       "\n",
       "    .dataframe tbody tr th {\n",
       "        vertical-align: top;\n",
       "    }\n",
       "\n",
       "    .dataframe thead th {\n",
       "        text-align: right;\n",
       "    }\n",
       "</style>\n",
       "<table border=\"1\" class=\"dataframe\">\n",
       "  <thead>\n",
       "    <tr style=\"text-align: right;\">\n",
       "      <th></th>\n",
       "      <th>chunk_score</th>\n",
       "      <th>len</th>\n",
       "      <th>sequence</th>\n",
       "    </tr>\n",
       "  </thead>\n",
       "  <tbody>\n",
       "    <tr>\n",
       "      <th>0</th>\n",
       "      <td>0.52</td>\n",
       "      <td>2.0</td>\n",
       "      <td>[summer, awards]</td>\n",
       "    </tr>\n",
       "  </tbody>\n",
       "</table>\n",
       "</div>"
      ],
      "text/plain": [
       "   chunk_score  len          sequence\n",
       "0         0.52  2.0  [summer, awards]"
      ]
     },
     "metadata": {},
     "output_type": "display_data"
    },
    {
     "data": {
      "text/markdown": [
       "**Head:** 9"
      ],
      "text/plain": [
       "<IPython.core.display.Markdown object>"
      ]
     },
     "metadata": {},
     "output_type": "display_data"
    },
    {
     "data": {
      "text/html": [
       "<div>\n",
       "<style scoped>\n",
       "    .dataframe tbody tr th:only-of-type {\n",
       "        vertical-align: middle;\n",
       "    }\n",
       "\n",
       "    .dataframe tbody tr th {\n",
       "        vertical-align: top;\n",
       "    }\n",
       "\n",
       "    .dataframe thead th {\n",
       "        text-align: right;\n",
       "    }\n",
       "</style>\n",
       "<table border=\"1\" class=\"dataframe\">\n",
       "  <thead>\n",
       "    <tr style=\"text-align: right;\">\n",
       "      <th></th>\n",
       "      <th>chunk_score</th>\n",
       "      <th>len</th>\n",
       "      <th>sequence</th>\n",
       "    </tr>\n",
       "  </thead>\n",
       "  <tbody>\n",
       "    <tr>\n",
       "      <th>0</th>\n",
       "      <td>0.58</td>\n",
       "      <td>2.0</td>\n",
       "      <td>[awarded, awards]</td>\n",
       "    </tr>\n",
       "  </tbody>\n",
       "</table>\n",
       "</div>"
      ],
      "text/plain": [
       "   chunk_score  len           sequence\n",
       "0         0.58  2.0  [awarded, awards]"
      ]
     },
     "metadata": {},
     "output_type": "display_data"
    },
    {
     "data": {
      "text/markdown": [
       "**Head:** 10"
      ],
      "text/plain": [
       "<IPython.core.display.Markdown object>"
      ]
     },
     "metadata": {},
     "output_type": "display_data"
    },
    {
     "data": {
      "text/html": [
       "<div>\n",
       "<style scoped>\n",
       "    .dataframe tbody tr th:only-of-type {\n",
       "        vertical-align: middle;\n",
       "    }\n",
       "\n",
       "    .dataframe tbody tr th {\n",
       "        vertical-align: top;\n",
       "    }\n",
       "\n",
       "    .dataframe thead th {\n",
       "        text-align: right;\n",
       "    }\n",
       "</style>\n",
       "<table border=\"1\" class=\"dataframe\">\n",
       "  <thead>\n",
       "    <tr style=\"text-align: right;\">\n",
       "      <th></th>\n",
       "      <th>chunk_score</th>\n",
       "      <th>len</th>\n",
       "      <th>sequence</th>\n",
       "    </tr>\n",
       "  </thead>\n",
       "  <tbody>\n",
       "    <tr>\n",
       "      <th>0</th>\n",
       "      <td>0.93</td>\n",
       "      <td>2.0</td>\n",
       "      <td>[summer, awards]</td>\n",
       "    </tr>\n",
       "    <tr>\n",
       "      <th>1</th>\n",
       "      <td>0.88</td>\n",
       "      <td>3.0</td>\n",
       "      <td>[kiss, summer, awards]</td>\n",
       "    </tr>\n",
       "    <tr>\n",
       "      <th>2</th>\n",
       "      <td>0.84</td>\n",
       "      <td>2.0</td>\n",
       "      <td>[kiss, summer]</td>\n",
       "    </tr>\n",
       "    <tr>\n",
       "      <th>3</th>\n",
       "      <td>0.76</td>\n",
       "      <td>2.0</td>\n",
       "      <td>[best, song]</td>\n",
       "    </tr>\n",
       "  </tbody>\n",
       "</table>\n",
       "</div>"
      ],
      "text/plain": [
       "   chunk_score  len                sequence\n",
       "0         0.93  2.0        [summer, awards]\n",
       "1         0.88  3.0  [kiss, summer, awards]\n",
       "2         0.84  2.0          [kiss, summer]\n",
       "3         0.76  2.0            [best, song]"
      ]
     },
     "metadata": {},
     "output_type": "display_data"
    },
    {
     "data": {
      "text/markdown": [
       "Sentence: _She collected the speech and words of Dublin city and donated her collection to the Department of Irish Folklore at University College, Dublin._"
      ],
      "text/plain": [
       "<IPython.core.display.Markdown object>"
      ]
     },
     "metadata": {},
     "output_type": "display_data"
    },
    {
     "data": {
      "text/markdown": [
       "**Head:** 8"
      ],
      "text/plain": [
       "<IPython.core.display.Markdown object>"
      ]
     },
     "metadata": {},
     "output_type": "display_data"
    },
    {
     "data": {
      "text/html": [
       "<div>\n",
       "<style scoped>\n",
       "    .dataframe tbody tr th:only-of-type {\n",
       "        vertical-align: middle;\n",
       "    }\n",
       "\n",
       "    .dataframe tbody tr th {\n",
       "        vertical-align: top;\n",
       "    }\n",
       "\n",
       "    .dataframe thead th {\n",
       "        text-align: right;\n",
       "    }\n",
       "</style>\n",
       "<table border=\"1\" class=\"dataframe\">\n",
       "  <thead>\n",
       "    <tr style=\"text-align: right;\">\n",
       "      <th></th>\n",
       "      <th>chunk_score</th>\n",
       "      <th>len</th>\n",
       "      <th>sequence</th>\n",
       "    </tr>\n",
       "  </thead>\n",
       "  <tbody>\n",
       "    <tr>\n",
       "      <th>0</th>\n",
       "      <td>0.58</td>\n",
       "      <td>2.0</td>\n",
       "      <td>[college, dublin]</td>\n",
       "    </tr>\n",
       "  </tbody>\n",
       "</table>\n",
       "</div>"
      ],
      "text/plain": [
       "   chunk_score  len           sequence\n",
       "0         0.58  2.0  [college, dublin]"
      ]
     },
     "metadata": {},
     "output_type": "display_data"
    },
    {
     "data": {
      "text/markdown": [
       "**Head:** 10"
      ],
      "text/plain": [
       "<IPython.core.display.Markdown object>"
      ]
     },
     "metadata": {},
     "output_type": "display_data"
    },
    {
     "data": {
      "text/html": [
       "<div>\n",
       "<style scoped>\n",
       "    .dataframe tbody tr th:only-of-type {\n",
       "        vertical-align: middle;\n",
       "    }\n",
       "\n",
       "    .dataframe tbody tr th {\n",
       "        vertical-align: top;\n",
       "    }\n",
       "\n",
       "    .dataframe thead th {\n",
       "        text-align: right;\n",
       "    }\n",
       "</style>\n",
       "<table border=\"1\" class=\"dataframe\">\n",
       "  <thead>\n",
       "    <tr style=\"text-align: right;\">\n",
       "      <th></th>\n",
       "      <th>chunk_score</th>\n",
       "      <th>len</th>\n",
       "      <th>sequence</th>\n",
       "    </tr>\n",
       "  </thead>\n",
       "  <tbody>\n",
       "    <tr>\n",
       "      <th>0</th>\n",
       "      <td>0.87</td>\n",
       "      <td>2.0</td>\n",
       "      <td>[university, college]</td>\n",
       "    </tr>\n",
       "    <tr>\n",
       "      <th>1</th>\n",
       "      <td>0.65</td>\n",
       "      <td>2.0</td>\n",
       "      <td>[irish, folklore]</td>\n",
       "    </tr>\n",
       "    <tr>\n",
       "      <th>2</th>\n",
       "      <td>0.64</td>\n",
       "      <td>2.0</td>\n",
       "      <td>[dublin, city]</td>\n",
       "    </tr>\n",
       "  </tbody>\n",
       "</table>\n",
       "</div>"
      ],
      "text/plain": [
       "   chunk_score  len               sequence\n",
       "0         0.87  2.0  [university, college]\n",
       "1         0.65  2.0      [irish, folklore]\n",
       "2         0.64  2.0         [dublin, city]"
      ]
     },
     "metadata": {},
     "output_type": "display_data"
    },
    {
     "data": {
      "text/markdown": [
       "**Head:** 11"
      ],
      "text/plain": [
       "<IPython.core.display.Markdown object>"
      ]
     },
     "metadata": {},
     "output_type": "display_data"
    },
    {
     "data": {
      "text/html": [
       "<div>\n",
       "<style scoped>\n",
       "    .dataframe tbody tr th:only-of-type {\n",
       "        vertical-align: middle;\n",
       "    }\n",
       "\n",
       "    .dataframe tbody tr th {\n",
       "        vertical-align: top;\n",
       "    }\n",
       "\n",
       "    .dataframe thead th {\n",
       "        text-align: right;\n",
       "    }\n",
       "</style>\n",
       "<table border=\"1\" class=\"dataframe\">\n",
       "  <thead>\n",
       "    <tr style=\"text-align: right;\">\n",
       "      <th></th>\n",
       "      <th>chunk_score</th>\n",
       "      <th>len</th>\n",
       "      <th>sequence</th>\n",
       "    </tr>\n",
       "  </thead>\n",
       "  <tbody>\n",
       "    <tr>\n",
       "      <th>0</th>\n",
       "      <td>0.58</td>\n",
       "      <td>2.0</td>\n",
       "      <td>[collection, folklore]</td>\n",
       "    </tr>\n",
       "  </tbody>\n",
       "</table>\n",
       "</div>"
      ],
      "text/plain": [
       "   chunk_score  len                sequence\n",
       "0         0.58  2.0  [collection, folklore]"
      ]
     },
     "metadata": {},
     "output_type": "display_data"
    },
    {
     "data": {
      "text/markdown": [
       "Sentence: _Traditional palyanytsya was baked from yeast dough._"
      ],
      "text/plain": [
       "<IPython.core.display.Markdown object>"
      ]
     },
     "metadata": {},
     "output_type": "display_data"
    },
    {
     "data": {
      "text/markdown": [
       "Sentence: _First, hops were boiled in a pot, which was then poured into a makitra, to which sifted wheat flour was added._"
      ],
      "text/plain": [
       "<IPython.core.display.Markdown object>"
      ]
     },
     "metadata": {},
     "output_type": "display_data"
    },
    {
     "data": {
      "text/markdown": [
       "**Head:** 10"
      ],
      "text/plain": [
       "<IPython.core.display.Markdown object>"
      ]
     },
     "metadata": {},
     "output_type": "display_data"
    },
    {
     "data": {
      "text/html": [
       "<div>\n",
       "<style scoped>\n",
       "    .dataframe tbody tr th:only-of-type {\n",
       "        vertical-align: middle;\n",
       "    }\n",
       "\n",
       "    .dataframe tbody tr th {\n",
       "        vertical-align: top;\n",
       "    }\n",
       "\n",
       "    .dataframe thead th {\n",
       "        text-align: right;\n",
       "    }\n",
       "</style>\n",
       "<table border=\"1\" class=\"dataframe\">\n",
       "  <thead>\n",
       "    <tr style=\"text-align: right;\">\n",
       "      <th></th>\n",
       "      <th>chunk_score</th>\n",
       "      <th>len</th>\n",
       "      <th>sequence</th>\n",
       "    </tr>\n",
       "  </thead>\n",
       "  <tbody>\n",
       "    <tr>\n",
       "      <th>0</th>\n",
       "      <td>0.93</td>\n",
       "      <td>2.0</td>\n",
       "      <td>[wheat, flour]</td>\n",
       "    </tr>\n",
       "  </tbody>\n",
       "</table>\n",
       "</div>"
      ],
      "text/plain": [
       "   chunk_score  len        sequence\n",
       "0         0.93  2.0  [wheat, flour]"
      ]
     },
     "metadata": {},
     "output_type": "display_data"
    },
    {
     "data": {
      "text/markdown": [
       "**Head:** 11"
      ],
      "text/plain": [
       "<IPython.core.display.Markdown object>"
      ]
     },
     "metadata": {},
     "output_type": "display_data"
    },
    {
     "data": {
      "text/html": [
       "<div>\n",
       "<style scoped>\n",
       "    .dataframe tbody tr th:only-of-type {\n",
       "        vertical-align: middle;\n",
       "    }\n",
       "\n",
       "    .dataframe tbody tr th {\n",
       "        vertical-align: top;\n",
       "    }\n",
       "\n",
       "    .dataframe thead th {\n",
       "        text-align: right;\n",
       "    }\n",
       "</style>\n",
       "<table border=\"1\" class=\"dataframe\">\n",
       "  <thead>\n",
       "    <tr style=\"text-align: right;\">\n",
       "      <th></th>\n",
       "      <th>chunk_score</th>\n",
       "      <th>len</th>\n",
       "      <th>sequence</th>\n",
       "    </tr>\n",
       "  </thead>\n",
       "  <tbody>\n",
       "    <tr>\n",
       "      <th>0</th>\n",
       "      <td>0.52</td>\n",
       "      <td>2.0</td>\n",
       "      <td>[wheat, flour]</td>\n",
       "    </tr>\n",
       "  </tbody>\n",
       "</table>\n",
       "</div>"
      ],
      "text/plain": [
       "   chunk_score  len        sequence\n",
       "0         0.52  2.0  [wheat, flour]"
      ]
     },
     "metadata": {},
     "output_type": "display_data"
    },
    {
     "data": {
      "text/markdown": [
       "Sentence: _Jonathan Holland of ScreenDaily deemed the film to be \"superbly directed by Palomero, who seems to have a special gift for seeing the world through children's eyes.\" _"
      ],
      "text/plain": [
       "<IPython.core.display.Markdown object>"
      ]
     },
     "metadata": {},
     "output_type": "display_data"
    },
    {
     "data": {
      "text/markdown": [
       "**Head:** 10"
      ],
      "text/plain": [
       "<IPython.core.display.Markdown object>"
      ]
     },
     "metadata": {},
     "output_type": "display_data"
    },
    {
     "data": {
      "text/html": [
       "<div>\n",
       "<style scoped>\n",
       "    .dataframe tbody tr th:only-of-type {\n",
       "        vertical-align: middle;\n",
       "    }\n",
       "\n",
       "    .dataframe tbody tr th {\n",
       "        vertical-align: top;\n",
       "    }\n",
       "\n",
       "    .dataframe thead th {\n",
       "        text-align: right;\n",
       "    }\n",
       "</style>\n",
       "<table border=\"1\" class=\"dataframe\">\n",
       "  <thead>\n",
       "    <tr style=\"text-align: right;\">\n",
       "      <th></th>\n",
       "      <th>chunk_score</th>\n",
       "      <th>len</th>\n",
       "      <th>sequence</th>\n",
       "    </tr>\n",
       "  </thead>\n",
       "  <tbody>\n",
       "    <tr>\n",
       "      <th>0</th>\n",
       "      <td>0.62</td>\n",
       "      <td>2.0</td>\n",
       "      <td>[special, gift]</td>\n",
       "    </tr>\n",
       "    <tr>\n",
       "      <th>1</th>\n",
       "      <td>0.56</td>\n",
       "      <td>2.0</td>\n",
       "      <td>[jonathan, holland]</td>\n",
       "    </tr>\n",
       "  </tbody>\n",
       "</table>\n",
       "</div>"
      ],
      "text/plain": [
       "   chunk_score  len             sequence\n",
       "0         0.62  2.0      [special, gift]\n",
       "1         0.56  2.0  [jonathan, holland]"
      ]
     },
     "metadata": {},
     "output_type": "display_data"
    }
   ],
   "source": [
    "for sentence in sentences:\n",
    "    display(md(f\"\"\"Sentence: _{sentence}_\"\"\"))\n",
    "    inputs = tokenizer(sentence, return_tensors=\"pt\")\n",
    "    if inputs['input_ids'].shape[1] > MAXIMUM_SEQUENCE_LENGTH:\n",
    "        break\n",
    "\n",
    "    outputs = model(**inputs, output_attentions=True)\n",
    "    attention_matrix = outputs.attentions\n",
    "\n",
    "    encoding = tokenizer.encode(sentence)\n",
    "    labels = tokenizer.convert_ids_to_tokens(encoding)\n",
    "\n",
    "    i = 0\n",
    "    averages_idx = []\n",
    "    while i < len(labels) - 1:\n",
    "        j = i + 1\n",
    "        average_idx = []\n",
    "        while labels[j].startswith('#'):\n",
    "            average_idx.append(j)\n",
    "            labels[i] += labels[j].replace('#', '')\n",
    "            j += 1\n",
    "        if average_idx != []:\n",
    "            average_idx.append(i)\n",
    "            averages_idx.append(average_idx)\n",
    "        i = j\n",
    "\n",
    "    hashtag_idx = np.array([label.startswith(\"#\") for label in labels])\n",
    "    stopwords_idx = np.array([label in stopwords.words('english') for label in labels])\n",
    "    punctuation_idx = np.array([label in string.punctuation for label in labels])\n",
    "    dash_idx = np.array([(len(label) == 1 and ord(label) == 8211) for label in labels])\n",
    "    remove_idx = hashtag_idx | punctuation_idx | dash_idx\n",
    "    if remove_stopwords:\n",
    "        remove_idx |= stopwords_idx\n",
    "    labels = np.array(labels)[~remove_idx]\n",
    "    labels = labels[1:(len(labels) - 1)]\n",
    "\n",
    "    layer = 0\n",
    "    for head in range(12):\n",
    "        head_scores_raw_tensor = attention_matrix[layer][0][head].detach().clone()\n",
    "\n",
    "        head_scores_raw_tensor = preprocess_attention_scores(head_scores_raw_tensor, averages_idx, remove_idx)\n",
    "\n",
    "        head_scores_raw = head_scores_raw_tensor.cpu().detach().numpy()\n",
    "\n",
    "        head_scores = head_scores_raw[1:(len(head_scores_raw) - 1), 1:(len(head_scores_raw) - 1)].copy()\n",
    "\n",
    "        head_scores[head_scores < as_threshold] = 0\n",
    "\n",
    "        G = nx.from_numpy_array(head_scores, create_using=nx.DiGraph())\n",
    "\n",
    "        sequences = []\n",
    "        means = []\n",
    "        n_tokens = len(labels)\n",
    "        construct_sequences(G, n_tokens)\n",
    "\n",
    "        df = pd.DataFrame(data=[sequences, means]).T.rename(columns={0: 'seq',  1: 'score'})\n",
    "\n",
    "        if len(df) > 0:\n",
    "            df['len'] = df['seq'].map(sum)\n",
    "            df['score'] = df['score'].astype('float64')\n",
    "            df = df.sort_values(by=['score', 'len'], ascending=[False, False]).reset_index(drop=True)\n",
    "            \n",
    "            df['sequence'] = df['seq'].apply(lambda x: labels[x.astype(bool)])\n",
    "            df['chunk_score'] = df['score']\n",
    "            display(md(f\"**Head:** {head}\"))\n",
    "            display(df[['chunk_score', 'len', 'sequence']])\n",
    "\n",
    "            # Select sequences to be save to memory.\n",
    "            if n_sequences is not None:\n",
    "                filtered_df = df.head(n_sequences)\n",
    "            elif chunk_score_threshold is not None:\n",
    "                filtered_df = df[df['score'] >= chunk_score_threshold]\n",
    "            else:\n",
    "                filtered_df = df.head(3)"
   ]
  },
  {
   "cell_type": "code",
   "execution_count": null,
   "id": "d121179d",
   "metadata": {},
   "outputs": [],
   "source": []
  },
  {
   "cell_type": "code",
   "execution_count": null,
   "id": "e44e4bbd",
   "metadata": {},
   "outputs": [],
   "source": []
  },
  {
   "cell_type": "code",
   "execution_count": null,
   "id": "8407ed2e",
   "metadata": {},
   "outputs": [],
   "source": []
  }
 ],
 "metadata": {
  "kernelspec": {
   "display_name": "Python 3 (ipykernel)",
   "language": "python",
   "name": "python3"
  },
  "language_info": {
   "codemirror_mode": {
    "name": "ipython",
    "version": 3
   },
   "file_extension": ".py",
   "mimetype": "text/x-python",
   "name": "python",
   "nbconvert_exporter": "python",
   "pygments_lexer": "ipython3",
   "version": "3.9.17"
  }
 },
 "nbformat": 4,
 "nbformat_minor": 5
}
